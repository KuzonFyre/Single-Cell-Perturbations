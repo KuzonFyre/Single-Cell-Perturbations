{
  "cells": [
    {
      "cell_type": "code",
      "execution_count": null,
      "metadata": {
        "id": "LrGxvKtoefzc",
        "outputId": "e83a30b4-3e35-49f4-9be9-824780d608d8",
        "colab": {
          "base_uri": "https://localhost:8080/"
        }
      },
      "outputs": [
        {
          "output_type": "stream",
          "name": "stdout",
          "text": [
            "Using device: cuda\n"
          ]
        }
      ],
      "source": [
        "\n",
        "import torch.nn as nn\n",
        "import torch\n",
        "import numpy as np\n",
        "from sklearn.model_selection import train_test_split\n",
        "from sklearn.preprocessing import OneHotEncoder\n",
        "import pandas as pd\n",
        "from sklearn.metrics import mean_squared_error, r2_score\n",
        "import matplotlib.pyplot as plt\n",
        "\n",
        "device = torch.device(\"cuda\" if torch.cuda.is_available() else \"cpu\")\n",
        "print(\"Using device:\", device)\n"
      ]
    },
    {
      "cell_type": "code",
      "source": [
        "import os\n",
        "import zipfile\n",
        "from pathlib import Path\n",
        "from google.colab import files\n",
        "\n",
        "# upload the kaggle.json file\n",
        "files.upload()\n",
        "\n",
        "# create the kaggle.json file and download data\n",
        "!mkdir -p ~/.kaggle\n",
        "!cp kaggle.json ~/.kaggle/\n",
        "!chmod 600 ~/.kaggle/kaggle.json\n",
        "!kaggle competitions download -c open-problems-single-cell-perturbations\n",
        "\n",
        "# unzip data\n",
        "local_zip = '/content/open-problems-single-cell-perturbations.zip'\n",
        "zip_ref = zipfile.ZipFile(local_zip, 'r')\n",
        "zip_ref.extractall('./')\n",
        "zip_ref.close()"
      ],
      "metadata": {
        "id": "qsD0sMm-ehrP",
        "outputId": "99b2faf7-014c-4e00-ac45-f8082fe2e6ff",
        "colab": {
          "base_uri": "https://localhost:8080/",
          "height": 128
        }
      },
      "execution_count": null,
      "outputs": [
        {
          "output_type": "display_data",
          "data": {
            "text/plain": [
              "<IPython.core.display.HTML object>"
            ],
            "text/html": [
              "\n",
              "     <input type=\"file\" id=\"files-7c2013cb-c22c-4300-98a8-54e3f1a0955c\" name=\"files[]\" multiple disabled\n",
              "        style=\"border:none\" />\n",
              "     <output id=\"result-7c2013cb-c22c-4300-98a8-54e3f1a0955c\">\n",
              "      Upload widget is only available when the cell has been executed in the\n",
              "      current browser session. Please rerun this cell to enable.\n",
              "      </output>\n",
              "      <script>// Copyright 2017 Google LLC\n",
              "//\n",
              "// Licensed under the Apache License, Version 2.0 (the \"License\");\n",
              "// you may not use this file except in compliance with the License.\n",
              "// You may obtain a copy of the License at\n",
              "//\n",
              "//      http://www.apache.org/licenses/LICENSE-2.0\n",
              "//\n",
              "// Unless required by applicable law or agreed to in writing, software\n",
              "// distributed under the License is distributed on an \"AS IS\" BASIS,\n",
              "// WITHOUT WARRANTIES OR CONDITIONS OF ANY KIND, either express or implied.\n",
              "// See the License for the specific language governing permissions and\n",
              "// limitations under the License.\n",
              "\n",
              "/**\n",
              " * @fileoverview Helpers for google.colab Python module.\n",
              " */\n",
              "(function(scope) {\n",
              "function span(text, styleAttributes = {}) {\n",
              "  const element = document.createElement('span');\n",
              "  element.textContent = text;\n",
              "  for (const key of Object.keys(styleAttributes)) {\n",
              "    element.style[key] = styleAttributes[key];\n",
              "  }\n",
              "  return element;\n",
              "}\n",
              "\n",
              "// Max number of bytes which will be uploaded at a time.\n",
              "const MAX_PAYLOAD_SIZE = 100 * 1024;\n",
              "\n",
              "function _uploadFiles(inputId, outputId) {\n",
              "  const steps = uploadFilesStep(inputId, outputId);\n",
              "  const outputElement = document.getElementById(outputId);\n",
              "  // Cache steps on the outputElement to make it available for the next call\n",
              "  // to uploadFilesContinue from Python.\n",
              "  outputElement.steps = steps;\n",
              "\n",
              "  return _uploadFilesContinue(outputId);\n",
              "}\n",
              "\n",
              "// This is roughly an async generator (not supported in the browser yet),\n",
              "// where there are multiple asynchronous steps and the Python side is going\n",
              "// to poll for completion of each step.\n",
              "// This uses a Promise to block the python side on completion of each step,\n",
              "// then passes the result of the previous step as the input to the next step.\n",
              "function _uploadFilesContinue(outputId) {\n",
              "  const outputElement = document.getElementById(outputId);\n",
              "  const steps = outputElement.steps;\n",
              "\n",
              "  const next = steps.next(outputElement.lastPromiseValue);\n",
              "  return Promise.resolve(next.value.promise).then((value) => {\n",
              "    // Cache the last promise value to make it available to the next\n",
              "    // step of the generator.\n",
              "    outputElement.lastPromiseValue = value;\n",
              "    return next.value.response;\n",
              "  });\n",
              "}\n",
              "\n",
              "/**\n",
              " * Generator function which is called between each async step of the upload\n",
              " * process.\n",
              " * @param {string} inputId Element ID of the input file picker element.\n",
              " * @param {string} outputId Element ID of the output display.\n",
              " * @return {!Iterable<!Object>} Iterable of next steps.\n",
              " */\n",
              "function* uploadFilesStep(inputId, outputId) {\n",
              "  const inputElement = document.getElementById(inputId);\n",
              "  inputElement.disabled = false;\n",
              "\n",
              "  const outputElement = document.getElementById(outputId);\n",
              "  outputElement.innerHTML = '';\n",
              "\n",
              "  const pickedPromise = new Promise((resolve) => {\n",
              "    inputElement.addEventListener('change', (e) => {\n",
              "      resolve(e.target.files);\n",
              "    });\n",
              "  });\n",
              "\n",
              "  const cancel = document.createElement('button');\n",
              "  inputElement.parentElement.appendChild(cancel);\n",
              "  cancel.textContent = 'Cancel upload';\n",
              "  const cancelPromise = new Promise((resolve) => {\n",
              "    cancel.onclick = () => {\n",
              "      resolve(null);\n",
              "    };\n",
              "  });\n",
              "\n",
              "  // Wait for the user to pick the files.\n",
              "  const files = yield {\n",
              "    promise: Promise.race([pickedPromise, cancelPromise]),\n",
              "    response: {\n",
              "      action: 'starting',\n",
              "    }\n",
              "  };\n",
              "\n",
              "  cancel.remove();\n",
              "\n",
              "  // Disable the input element since further picks are not allowed.\n",
              "  inputElement.disabled = true;\n",
              "\n",
              "  if (!files) {\n",
              "    return {\n",
              "      response: {\n",
              "        action: 'complete',\n",
              "      }\n",
              "    };\n",
              "  }\n",
              "\n",
              "  for (const file of files) {\n",
              "    const li = document.createElement('li');\n",
              "    li.append(span(file.name, {fontWeight: 'bold'}));\n",
              "    li.append(span(\n",
              "        `(${file.type || 'n/a'}) - ${file.size} bytes, ` +\n",
              "        `last modified: ${\n",
              "            file.lastModifiedDate ? file.lastModifiedDate.toLocaleDateString() :\n",
              "                                    'n/a'} - `));\n",
              "    const percent = span('0% done');\n",
              "    li.appendChild(percent);\n",
              "\n",
              "    outputElement.appendChild(li);\n",
              "\n",
              "    const fileDataPromise = new Promise((resolve) => {\n",
              "      const reader = new FileReader();\n",
              "      reader.onload = (e) => {\n",
              "        resolve(e.target.result);\n",
              "      };\n",
              "      reader.readAsArrayBuffer(file);\n",
              "    });\n",
              "    // Wait for the data to be ready.\n",
              "    let fileData = yield {\n",
              "      promise: fileDataPromise,\n",
              "      response: {\n",
              "        action: 'continue',\n",
              "      }\n",
              "    };\n",
              "\n",
              "    // Use a chunked sending to avoid message size limits. See b/62115660.\n",
              "    let position = 0;\n",
              "    do {\n",
              "      const length = Math.min(fileData.byteLength - position, MAX_PAYLOAD_SIZE);\n",
              "      const chunk = new Uint8Array(fileData, position, length);\n",
              "      position += length;\n",
              "\n",
              "      const base64 = btoa(String.fromCharCode.apply(null, chunk));\n",
              "      yield {\n",
              "        response: {\n",
              "          action: 'append',\n",
              "          file: file.name,\n",
              "          data: base64,\n",
              "        },\n",
              "      };\n",
              "\n",
              "      let percentDone = fileData.byteLength === 0 ?\n",
              "          100 :\n",
              "          Math.round((position / fileData.byteLength) * 100);\n",
              "      percent.textContent = `${percentDone}% done`;\n",
              "\n",
              "    } while (position < fileData.byteLength);\n",
              "  }\n",
              "\n",
              "  // All done.\n",
              "  yield {\n",
              "    response: {\n",
              "      action: 'complete',\n",
              "    }\n",
              "  };\n",
              "}\n",
              "\n",
              "scope.google = scope.google || {};\n",
              "scope.google.colab = scope.google.colab || {};\n",
              "scope.google.colab._files = {\n",
              "  _uploadFiles,\n",
              "  _uploadFilesContinue,\n",
              "};\n",
              "})(self);\n",
              "</script> "
            ]
          },
          "metadata": {}
        },
        {
          "output_type": "stream",
          "name": "stdout",
          "text": [
            "Saving kaggle.json to kaggle.json\n",
            "Downloading open-problems-single-cell-perturbations.zip to /content\n",
            "100% 3.82G/3.83G [00:53<00:00, 86.6MB/s]\n",
            "100% 3.83G/3.83G [00:53<00:00, 76.5MB/s]\n"
          ]
        }
      ]
    },
    {
      "cell_type": "code",
      "execution_count": null,
      "metadata": {
        "scrolled": false,
        "id": "GusbR6eeefze",
        "colab": {
          "base_uri": "https://localhost:8080/"
        },
        "outputId": "a17e5f9a-1316-48b2-fbaa-47f9e01f8cfa"
      },
      "outputs": [
        {
          "output_type": "stream",
          "name": "stdout",
          "text": [
            "Index(['cell_type', 'sm_name', 'sm_lincs_id', 'SMILES', 'control', 'A1BG',\n",
            "       'A1BG-AS1', 'A2M', 'A2M-AS1', 'A2MP1',\n",
            "       ...\n",
            "       'ZUP1', 'ZW10', 'ZWILCH', 'ZWINT', 'ZXDA', 'ZXDB', 'ZXDC', 'ZYG11B',\n",
            "       'ZYX', 'ZZEF1'],\n",
            "      dtype='object', length=18216)\n"
          ]
        }
      ],
      "source": [
        "#Read the data into a pandas data frame\n",
        "df = pd.read_parquet(\"de_train.parquet\")\n"
      ]
    },
    {
      "cell_type": "code",
      "source": [
        "!pip install rdkit"
      ],
      "metadata": {
        "colab": {
          "base_uri": "https://localhost:8080/"
        },
        "id": "dApiz2ouDNz9",
        "outputId": "d76824a6-d299-47e3-c389-7a7a55481b0c"
      },
      "execution_count": null,
      "outputs": [
        {
          "output_type": "stream",
          "name": "stdout",
          "text": [
            "Requirement already satisfied: rdkit in /usr/local/lib/python3.10/dist-packages (2023.9.2)\n",
            "Requirement already satisfied: numpy in /usr/local/lib/python3.10/dist-packages (from rdkit) (1.23.5)\n",
            "Requirement already satisfied: Pillow in /usr/local/lib/python3.10/dist-packages (from rdkit) (9.4.0)\n"
          ]
        }
      ]
    },
    {
      "cell_type": "code",
      "source": [
        "from rdkit import Chem\n",
        "from rdkit.Chem import rdFMCS\n",
        "def count_substructure_occurrences(target_smiles, query_smiles):\n",
        "    try:\n",
        "        # Convert SMILES to RDKit molecules\n",
        "        target_mol = Chem.MolFromSmiles(target_smiles)\n",
        "        query_mol = Chem.MolFromSmiles(query_smiles)\n",
        "\n",
        "        # Check if the molecules are valid\n",
        "        if target_mol is None or query_mol is None:\n",
        "            print(\"Error: Invalid SMILES.\")\n",
        "            return None\n",
        "\n",
        "        # Use SubstructMatch to find occurrences\n",
        "        occurrences = target_mol.GetSubstructMatches(query_mol)\n",
        "\n",
        "        return len(occurrences)\n",
        "    except Exception as e:\n",
        "        print(f\"Error: {e}\")\n",
        "        return None\n",
        "\n",
        "# Example usage\n",
        "target_smiles = \"CCOCC\"\n",
        "query_smiles = \"c1ccccc1\"\n",
        "occurrence_count = count_substructure_occurrences(target_smiles, query_smiles)\n",
        "\n",
        "if occurrence_count is not None:\n",
        "    print(f\"The substructure '{query_smiles}' is found {occurrence_count} times in the molecule '{target_smiles}'.\")"
      ],
      "metadata": {
        "colab": {
          "base_uri": "https://localhost:8080/"
        },
        "id": "U8R46-NJwOto",
        "outputId": "6e5c55b2-a1da-4526-d23d-fadb41308e77"
      },
      "execution_count": null,
      "outputs": [
        {
          "output_type": "stream",
          "name": "stdout",
          "text": [
            "The substructure 'c1ccccc1' is found 0 times in the molecule 'CCOCC'.\n"
          ]
        }
      ]
    },
    {
      "cell_type": "code",
      "source": [
        "functional_groups  = [\"O\", \"C=O\", \"N\", \"C(=O)N\", \"C(=O)O\", \"N=O\", \"S\", \"P([O])([O])\", \"S(=O)([O])([O])\", \"C=C\", \"C#C\", \"c1ccccc1\", \"F\", \"Cl\", \"Br\", \"I\", \"C\" ]\n",
        "functional_column_names = [(i, 'int') for i in functional_groups]\n",
        "SMILES = df[\"SMILES\"].tolist()\n",
        "\n",
        "functional_groups_block = [[count_substructure_occurrences(i,j) for j in functional_groups ] for i in SMILES]\n",
        "functional_group_df = pd.DataFrame(functional_groups_block, columns=[name for name, _ in functional_column_names])\n",
        "functional_group_df = functional_group_df.astype(\"float64\")\n"
      ],
      "metadata": {
        "id": "e9vseisnwXo7"
      },
      "execution_count": null,
      "outputs": []
    },
    {
      "cell_type": "code",
      "execution_count": null,
      "metadata": {
        "id": "LOnpexSlefze"
      },
      "outputs": [],
      "source": [
        "#normalizes data between -1 and 1\n",
        "#returns normalized data and the factors used to normalzie\n",
        "def normalize(df):\n",
        "    min = df.min()\n",
        "    max=df.max()\n",
        "    df_normalized = (df - min) / (max-min)\n",
        "    return df_normalized, min.reset_index(drop=True), max.reset_index(drop=True)\n",
        "\n",
        "\n",
        "#unnormalize\n",
        "def unnormalize(normalized_df, min, max):\n",
        "    return min + normalized_df*(max-min)"
      ]
    },
    {
      "cell_type": "code",
      "execution_count": null,
      "metadata": {
        "id": "e2bmGPfcefze"
      },
      "outputs": [],
      "source": [
        "############################DATA PREP###############################\n",
        "\n",
        "\n",
        "####One hot incodes inputs####\n",
        "\n",
        "# Initialize the OneHotEncoder\n",
        "encoder = OneHotEncoder(sparse_output=False)\n",
        "\n",
        "# Fit and transform the data\n",
        "cells = df[\"cell_type\"].values.reshape(-1, 1)\n",
        "hot_cells = encoder.fit_transform(cells)\n",
        "cell_mapping = encoder.categories_[0]\n",
        "\n",
        "compounds = df['sm_name'].values.reshape(-1, 1)\n",
        "hot_compounds = encoder.fit_transform(compounds)\n",
        "compound_mapping = encoder.categories_[0]\n",
        "\n",
        "#Puts together inputs\n",
        "hot_encoded = np.hstack((hot_cells, hot_compounds))\n",
        "hot_encoded_df = pd.DataFrame(data = hot_encoded)\n",
        "inputs_df = pd.concat([hot_encoded_df, functional_group_df], axis=1)\n",
        "\n",
        "\n",
        "####Normalizes Outputs####\n",
        "\n",
        "outputs = df.loc[:, 'A1BG':'ZZEF1']\n",
        "outputs_norm_df, norm_min, norm_max = normalize(outputs)\n",
        "\n",
        "\n",
        "####Puts Inputs and Outputs Together####\n",
        "prepped_df = pd.concat([inputs_df, outputs_norm_df], axis=1)\n",
        "\n"
      ]
    },
    {
      "cell_type": "code",
      "execution_count": null,
      "metadata": {
        "id": "GXaheDMyefzf",
        "colab": {
          "base_uri": "https://localhost:8080/"
        },
        "outputId": "6b46d472-d78d-430f-a34a-499d483f741f"
      },
      "outputs": [
        {
          "output_type": "stream",
          "name": "stdout",
          "text": [
            "trainIn_t shape: torch.Size([492, 1, 169])\n",
            "trainOut_t shape: torch.Size([492, 18211])\n",
            "valIn_t shape: torch.Size([122, 1, 169])\n",
            "valOut_t shape: torch.Size([122, 18211])\n"
          ]
        }
      ],
      "source": [
        "#Break into training and validation and split inputs from outputs\n",
        "val, train = train_test_split(prepped_df, train_size=.2, random_state=3)\n",
        "trainIn_df = train.loc[:, 0:\"C\"]\n",
        "trainOut_df = train.loc[:, 'A1BG':'ZZEF1']\n",
        "valIn_df = val.loc[:,0:\"C\"]\n",
        "valOut_df = val.loc[:, 'A1BG':'ZZEF1']\n",
        "\n",
        "#Transforms data frames into tensors\n",
        "trainIn_t = torch.tensor(trainIn_df.values).unsqueeze(1).float()\n",
        "trainOut_t = torch.tensor(trainOut_df.values).float()\n",
        "valIn_t = torch.tensor(valIn_df.values).unsqueeze(1).float()\n",
        "valOut_t = torch.tensor(valOut_df.values).float()\n",
        "\n",
        "print(\"trainIn_t shape:\", trainIn_t.shape)\n",
        "print(\"trainOut_t shape:\", trainOut_t.shape)\n",
        "print(\"valIn_t shape:\", valIn_t.shape)\n",
        "print(\"valOut_t shape:\", valOut_t.shape)\n"
      ]
    },
    {
      "cell_type": "code",
      "source": [
        "\n",
        "# Define a convolutional neural network class\n",
        "class Conv(nn.Module):\n",
        "    def __init__(self, layers):\n",
        "        super(Conv, self).__init__()\n",
        "\n",
        "        # Convolutional block with several convolutional, dropout, and pooling layers, followed by flattening\n",
        "        self.conv_block = nn.Sequential(\n",
        "            nn.Conv1d(1, 8, 5, stride=1, padding=0),\n",
        "            nn.Dropout(0.3),\n",
        "            nn.Conv1d(8, 8, 5, stride=1, padding=0),\n",
        "            nn.ReLU(),\n",
        "            nn.Conv1d(8, 16, 5, stride=2, padding=0),\n",
        "            nn.Dropout(0.3),\n",
        "            nn.AvgPool1d(11),\n",
        "            nn.Conv1d(16, 8, 3, stride=3, padding=0),\n",
        "            nn.Flatten()\n",
        "        )\n",
        "\n",
        "        # A flattened output size of 16 (this was calculated based on the input and conv layers)\n",
        "        flattened_size = 16\n",
        "\n",
        "        # Linear block with fully connected layers and ReLU activation\n",
        "        self.linear = nn.Sequential(\n",
        "            nn.Linear(flattened_size, 1024),\n",
        "            nn.Dropout(0.3),\n",
        "            nn.ReLU(),\n",
        "            nn.Linear(1024, 512),\n",
        "            nn.Dropout(0.3),\n",
        "            nn.ReLU(),\n",
        "            nn.Linear(512, 18211)\n",
        "        )\n",
        "\n",
        "        # Sigmoid activation function for the final output\n",
        "        self.head = nn.Sigmoid()\n",
        "\n",
        "    # Forward pass through the network\n",
        "    def forward(self, x):\n",
        "        x = self.conv_block(x)\n",
        "        x = self.linear(x)\n",
        "        x = self.head(x)\n",
        "        return x\n",
        "\n",
        "\n",
        "# Helper function to calculate output size of a conv layer (useful for determining the input size of linear layers)\n",
        "def conv1d_output_size(input_size, kernel_size, stride, padding):\n",
        "    return (input_size - kernel_size + 2 * padding) // stride + 1\n",
        "\n",
        "\n",
        "# Function to build and return the Conv model\n",
        "def build_model(layers):\n",
        "    return Conv(layers)\n"
      ],
      "metadata": {
        "id": "j7US7WU2MIs_"
      },
      "execution_count": null,
      "outputs": []
    },
    {
      "cell_type": "code",
      "source": [
        "def mean_rowwise_rmse(y_true, y_pred):\n",
        "    rowwise_rmse = np.sqrt(np.mean(np.square(y_true - y_pred), axis=1))\n",
        "    mrrmse_score = np.mean(rowwise_rmse)\n",
        "    return mrrmse_score\n"
      ],
      "metadata": {
        "id": "ZKIf37k5hvUS"
      },
      "execution_count": null,
      "outputs": []
    },
    {
      "cell_type": "code",
      "source": [
        "import random\n",
        "\n",
        "def augment_data(x_, y_):\n",
        "    # Initialize list for augmented data and clone labels\n",
        "    new_x = []\n",
        "    new_y = y_.clone()\n",
        "\n",
        "    # Calculate 30% of the second dimension of x_\n",
        "    k = int(0.3 * x_.shape[1])\n",
        "\n",
        "    # Augment each sample in x_ by zeroing a random 30% of its elements\n",
        "    for i in range(x_.shape[0]):\n",
        "        temp_x = x_[i].clone()\n",
        "        temp_x[random.sample(range(x_.shape[1]), k)] = 0\n",
        "        new_x.append(temp_x)\n",
        "\n",
        "    # Return the augmented data and original labels\n",
        "    return torch.stack(new_x, axis=0), new_y\n"
      ],
      "metadata": {
        "id": "bCFpzBJYh1kb"
      },
      "execution_count": null,
      "outputs": []
    },
    {
      "cell_type": "code",
      "execution_count": null,
      "metadata": {
        "id": "V7URBq5_efzi"
      },
      "outputs": [],
      "source": [
        "from torch.optim.lr_scheduler import StepLR\n",
        "\n",
        "def train(epoch_number, batch_size, layers):\n",
        "    # Set up device, model, loss function, optimizer, and learning rate scheduler\n",
        "    device = torch.device(\"cuda\" if torch.cuda.is_available() else \"cpu\")\n",
        "    model = build_model(layers).to(device)\n",
        "    loss_fn = nn.BCELoss()\n",
        "    optimizer = torch.optim.Adam(model.parameters(), lr=0.001)\n",
        "    scheduler = StepLR(optimizer, step_size=2, gamma=0.05)\n",
        "\n",
        "    # Initialize metrics for monitoring training\n",
        "    epoch_test_losses, epoch_val_losses, epoch_mrrmses = [], [], []\n",
        "    best_mrrmse = float('inf')\n",
        "    best_model_state = None\n",
        "    patience, trigger_times = 5, 0\n",
        "\n",
        "    # Training loop for each epoch\n",
        "    for epoch in range(epoch_number):\n",
        "        model.train()\n",
        "        batch_losses = []\n",
        "\n",
        "        # Batch processing\n",
        "        for i in range(0, len(trainIn_t), batch_size):\n",
        "            Xbatch = trainIn_t[i:i+batch_size].to(torch.float32).to(device)\n",
        "            ybatch = trainOut_t[i:i+batch_size].to(torch.float32).to(device)\n",
        "\n",
        "            # Check for inconsistent input shape\n",
        "            if Xbatch.shape[1] != 1:\n",
        "              raise ValueError(f\"Inconsistent input shape detected: {Xbatch.shape}\")\n",
        "\n",
        "            # Data augmentation\n",
        "            Xbatch_aug, ybatch_aug = augment_data(Xbatch, ybatch)\n",
        "\n",
        "            # Forward pass and loss calculation\n",
        "            y_pred = model(Xbatch_aug)\n",
        "            loss = loss_fn(y_pred, ybatch_aug)\n",
        "\n",
        "            # Backpropagation\n",
        "            optimizer.zero_grad()\n",
        "            loss.backward()\n",
        "            optimizer.step()\n",
        "            batch_losses.append(loss.item())\n",
        "\n",
        "        # Update learning rate\n",
        "        scheduler.step()\n",
        "\n",
        "        # Store average loss for the epoch\n",
        "        epoch_test_loss = np.mean(batch_losses)\n",
        "        epoch_test_losses.append(epoch_test_loss)\n",
        "\n",
        "        # Validation phase\n",
        "        model.eval()\n",
        "        with torch.no_grad():\n",
        "            y_pred = model(valIn_t.to(torch.float32).to(device))\n",
        "            epoch_val_loss = loss_fn(y_pred, valOut_t.to(torch.float32).to(device)).item()\n",
        "        epoch_val_losses.append(epoch_val_loss)\n",
        "\n",
        "        # Calculate and store MRRMSE for the epoch\n",
        "        val_y_pred = y_pred.cpu().numpy()\n",
        "        val_y_true = valOut_t.cpu().numpy()\n",
        "        epoch_mrrmse = mean_rowwise_rmse(val_y_true, val_y_pred)\n",
        "        epoch_mrrmses.append(epoch_mrrmse)\n",
        "\n",
        "        # Early stopping based on MRRMSE\n",
        "        if epoch_mrrmse < best_mrrmse:\n",
        "            best_mrrmse = epoch_mrrmse\n",
        "            best_model_state = model.state_dict()\n",
        "            trigger_times = 0\n",
        "        else:\n",
        "            trigger_times += 1\n",
        "            if trigger_times >= patience:\n",
        "                print(f\"Early stopping! Restoring the best model with MRRMSE of {best_mrrmse}\")\n",
        "                model.load_state_dict(best_model_state)\n",
        "                break\n",
        "\n",
        "        # Output epoch metrics\n",
        "        print(f\"Epoch {epoch}, Training Loss: {epoch_test_loss}, Validation Loss: {epoch_val_loss}, MRRMSE: {epoch_mrrmse}\")\n",
        "\n",
        "    # Load the best model state if it was updated\n",
        "    if best_model_state is not None:\n",
        "        model.load_state_dict(best_model_state)\n",
        "\n",
        "    # Return metrics and the trained model\n",
        "    return epoch_test_losses, epoch_val_losses, model, epoch_mrrmses\n",
        "\n"
      ]
    },
    {
      "cell_type": "code",
      "execution_count": null,
      "metadata": {
        "id": "0dES81ruefzi",
        "colab": {
          "base_uri": "https://localhost:8080/",
          "height": 1000
        },
        "outputId": "cc65a203-326c-4cd4-b2dd-422e3e948ba4"
      },
      "outputs": [
        {
          "output_type": "stream",
          "name": "stdout",
          "text": [
            "Epoch 0, Training Loss: 0.5320434057857932, Validation Loss: 0.5291661620140076, MRRMSE: 0.05487671121954918\n",
            "Epoch 1, Training Loss: 0.528728030803727, Validation Loss: 0.5294389724731445, MRRMSE: 0.05140135809779167\n",
            "Epoch 2, Training Loss: 0.5266025107565934, Validation Loss: 0.5288813710212708, MRRMSE: 0.05060167238116264\n",
            "Epoch 3, Training Loss: 0.5268598204948068, Validation Loss: 0.5289596915245056, MRRMSE: 0.05056982859969139\n",
            "Epoch 4, Training Loss: 0.5266336920421298, Validation Loss: 0.528873085975647, MRRMSE: 0.05061978101730347\n",
            "Epoch 5, Training Loss: 0.5270833408808321, Validation Loss: 0.5288152098655701, MRRMSE: 0.05071428790688515\n",
            "Epoch 6, Training Loss: 0.5268276430121283, Validation Loss: 0.5288123488426208, MRRMSE: 0.05072108283638954\n",
            "Epoch 7, Training Loss: 0.5259215402893904, Validation Loss: 0.5288102030754089, MRRMSE: 0.050726037472486496\n",
            "Early stopping! Restoring the best model with MRRMSE of 0.05056982859969139\n"
          ]
        },
        {
          "output_type": "display_data",
          "data": {
            "text/plain": [
              "<Figure size 1000x500 with 2 Axes>"
            ],
            "image/png": "[encoded data removed]"
          },
          "metadata": {}
        },
        {
          "output_type": "display_data",
          "data": {
            "text/plain": [
              "<Figure size 1000x500 with 1 Axes>"
            ],
            "image/png": "[encoded data removed]"
          },
          "metadata": {}
        },
        {
          "output_type": "display_data",
          "data": {
            "text/plain": [
              "<Figure size 640x480 with 0 Axes>"
            ]
          },
          "metadata": {}
        }
      ],
      "source": [
        "epoch_mrrmses = []\n",
        "\n",
        "# Call train(epochs, batch size, layers) function\n",
        "train_losses, test_losses, trained_model, epoch_mrrmses = train(20, 1, [1,1024,169])\n",
        "\n",
        "# Now plot the loss over epochs\n",
        "plt.figure(figsize=(10, 5))\n",
        "\n",
        "# Plotting the training loss\n",
        "plt.subplot(1, 2, 1)\n",
        "plt.plot(train_losses, label='Training Loss')\n",
        "plt.xlabel('Epochs')\n",
        "plt.ylabel('Loss')\n",
        "plt.title('Training Loss Over Time')\n",
        "plt.legend()\n",
        "\n",
        "test_losses = torch.tensor(test_losses)\n",
        "test_losses = test_losses.cpu()\n",
        "\n",
        "# Plotting the deviation over epochs\n",
        "plt.subplot(1, 2, 2)\n",
        "plt.plot(test_losses, label='Validation Deviation')\n",
        "plt.xlabel('Epochs')\n",
        "plt.ylabel('Deviation (%)')\n",
        "plt.title('Validation Deviation Over Time')\n",
        "plt.legend()\n",
        "\n",
        "# Plot the MRRMSE over epochs\n",
        "plt.figure(figsize=(10, 5))\n",
        "plt.plot(epoch_mrrmses, label='Validation MRRMSE')\n",
        "plt.xlabel('Epochs')\n",
        "plt.ylabel('MRRMSE')\n",
        "plt.title('Validation MRRMSE Over Time')\n",
        "plt.legend()\n",
        "plt.show()\n",
        "\n",
        "plt.tight_layout()\n",
        "plt.show()"
      ]
    },
    {
      "cell_type": "code",
      "execution_count": null,
      "metadata": {
        "id": "5ax1AjDRefzk"
      },
      "outputs": [],
      "source": [
        "def hot_encode(cell, compound, device):\n",
        "    # Create zero vectors for cell and compound with their respective sizes\n",
        "    cell_vec = np.zeros(cell_mapping.size)\n",
        "    compound_vec = np.zeros(compound_mapping.size)\n",
        "\n",
        "    # Map cell and compound values to indices and encode\n",
        "    cell_vec[{value: index for index, value in enumerate(cell_mapping)}[cell]] = 1\n",
        "    compound_vec[{value: index for index, value in enumerate(compound_mapping)}[compound]] = 1\n",
        "\n",
        "    # Concatenate the encoded vectors and convert to PyTorch tensor\n",
        "    tensor = torch.from_numpy(np.concatenate((cell_vec, compound_vec), axis=0)).to(device)\n",
        "\n",
        "    return tensor\n"
      ]
    },
    {
      "cell_type": "code",
      "execution_count": null,
      "metadata": {
        "id": "whGehKVkefzl"
      },
      "outputs": [],
      "source": [
        "encoded_input = hot_encode(\"NK cells\", \"Clotrimazole\", device)\n",
        "encoded_input = encoded_input.unsqueeze(0).unsqueeze(0).to(device)  # Add batch and channel dimensions\n",
        "\n",
        "encoded_input = encoded_input.float()\n",
        "\n",
        "# Forward pass through the model\n",
        "model_output = trained_model(encoded_input)"
      ]
    },
    {
      "cell_type": "code",
      "execution_count": null,
      "metadata": {
        "id": "7gE-yX_Kefzm",
        "outputId": "2bb216ca-bec6-445f-f091-a78b4efed566",
        "colab": {
          "base_uri": "https://localhost:8080/"
        }
      },
      "outputs": [
        {
          "output_type": "stream",
          "name": "stdout",
          "text": [
            "      0         1         2         3        4         5         6      \\\n",
            "0  0.277589  0.244477  0.110613  0.010069  0.40243  0.731361 -0.021193   \n",
            "\n",
            "      7         8         9      ...     18201     18202     18203     18204  \\\n",
            "0  0.308377  0.032776  0.050864  ...  0.016665  0.127073  0.053731  0.202457   \n",
            "\n",
            "     18205     18206     18207     18208     18209    18210  \n",
            "0  0.36954  0.303749  0.168035  0.169966 -0.192512 -0.10958  \n",
            "\n",
            "[1 rows x 18211 columns]\n"
          ]
        }
      ],
      "source": [
        "def get_expression(cell_type, compound_name, device):\n",
        "    # Encode the cell type and compound name\n",
        "    encoded_input = hot_encode(cell_type, compound_name, device)\n",
        "\n",
        "    # Reshape and convert to the correct type\n",
        "    encoded_input = encoded_input.unsqueeze(0).unsqueeze(0).to(device).float()  # Add batch and channel dimensions\n",
        "\n",
        "    # Forward pass through the model\n",
        "    tensor = trained_model(encoded_input)\n",
        "\n",
        "    # Convert the output tensor to a numpy array and unnormalize\n",
        "    np_array = tensor.detach().cpu().numpy()\n",
        "    df = pd.DataFrame(np_array)\n",
        "    unnormalized_df = unnormalize(df, norm_min, norm_max)\n",
        "\n",
        "    return unnormalized_df\n",
        "\n",
        "\n",
        "df = get_expression(\"NK cells\", \"Clotrimazole\", device)\n",
        "print(df)\n",
        "\n",
        "\n"
      ]
    },
    {
      "cell_type": "code",
      "execution_count": null,
      "metadata": {
        "id": "TWsfGvnpefzn"
      },
      "outputs": [],
      "source": [
        "# Read the sample submission and test set ID map\n",
        "sample_submission = pd.read_csv(\"sample_submission.csv\")\n",
        "testDf = pd.read_csv(\"id_map.csv\")\n",
        "\n",
        "# Initialize a list to collect the DataFrames\n",
        "predicted_values_list = []\n",
        "\n",
        "# Loop through the test set to get the predicted values\n",
        "for idx, row in testDf.iterrows():\n",
        "    cell_type = row['cell_type']\n",
        "    sm_name = row['sm_name']\n",
        "\n",
        "    # Call get_expression method here\n",
        "    expression_values = get_expression(cell_type, sm_name, device)\n",
        "\n",
        "    # Append the DataFrame to the list\n",
        "    predicted_values_list.append(expression_values)\n",
        "\n",
        "# Concatenate all DataFrames in the list\n",
        "predicted_values_df = pd.concat(predicted_values_list).reset_index(drop=True)\n",
        "\n",
        "# Replace the values in the sample submission DataFrame\n",
        "sample_submission.iloc[:, 1:] = predicted_values_df\n",
        "\n",
        "# Save the DataFrame to a new CSV file\n",
        "sample_submission.to_csv(\"my_submission.csv\", index=False)\n",
        "\n"
      ]
    }
  ],
  "metadata": {
    "kernelspec": {
      "display_name": "Python 3",
      "name": "python3"
    },
    "language_info": {
      "codemirror_mode": {
        "name": "ipython",
        "version": 3
      },
      "file_extension": ".py",
      "mimetype": "text/x-python",
      "name": "python",
      "nbconvert_exporter": "python",
      "pygments_lexer": "ipython3",
      "version": "3.10.11"
    },
    "vscode": {
      "interpreter": {
        "hash": "31f2aee4e71d21fbe5cf8b01ff0e069b9275f58929596ceb00d14d90e3e16cd6"
      }
    },
    "colab": {
      "provenance": [],
      "gpuType": "T4"
    },
    "accelerator": "GPU"
  },
  "nbformat": 4,
  "nbformat_minor": 0
}