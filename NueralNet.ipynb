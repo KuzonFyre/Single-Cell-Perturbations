{
  "cells": [
    {
      "cell_type": "code",
      "execution_count": 3,
      "metadata": {
        "id": "hzsdsOdsh_np"
      },
      "outputs": [],
      "source": [
        "\n",
        "import torch.nn as nn\n",
        "import torch\n",
        "import numpy as np\n",
        "from sklearn.model_selection import train_test_split\n",
        "from sklearn.preprocessing import OneHotEncoder\n",
        "import pandas as pd\n",
        "from sklearn.metrics import mean_squared_error, r2_score\n",
        "import matplotlib.pyplot as plt\n",
        "from torch.optim.lr_scheduler import ReduceLROnPlateau\n",
        "\n"
      ]
    },
    {
      "cell_type": "code",
      "execution_count": 1,
      "metadata": {
        "colab": {
          "base_uri": "https://localhost:8080/",
          "height": 125
        },
        "id": "DtscQrqph_nv",
        "outputId": "308fbc60-de8f-4936-8e69-68a7976624f9"
      },
      "outputs": [
        {
          "output_type": "display_data",
          "data": {
            "text/plain": [
              "<IPython.core.display.HTML object>"
            ],
            "text/html": [
              "\n",
              "     <input type=\"file\" id=\"files-668b443e-657c-4c5d-8674-4bea26136b79\" name=\"files[]\" multiple disabled\n",
              "        style=\"border:none\" />\n",
              "     <output id=\"result-668b443e-657c-4c5d-8674-4bea26136b79\">\n",
              "      Upload widget is only available when the cell has been executed in the\n",
              "      current browser session. Please rerun this cell to enable.\n",
              "      </output>\n",
              "      <script>// Copyright 2017 Google LLC\n",
              "//\n",
              "// Licensed under the Apache License, Version 2.0 (the \"License\");\n",
              "// you may not use this file except in compliance with the License.\n",
              "// You may obtain a copy of the License at\n",
              "//\n",
              "//      http://www.apache.org/licenses/LICENSE-2.0\n",
              "//\n",
              "// Unless required by applicable law or agreed to in writing, software\n",
              "// distributed under the License is distributed on an \"AS IS\" BASIS,\n",
              "// WITHOUT WARRANTIES OR CONDITIONS OF ANY KIND, either express or implied.\n",
              "// See the License for the specific language governing permissions and\n",
              "// limitations under the License.\n",
              "\n",
              "/**\n",
              " * @fileoverview Helpers for google.colab Python module.\n",
              " */\n",
              "(function(scope) {\n",
              "function span(text, styleAttributes = {}) {\n",
              "  const element = document.createElement('span');\n",
              "  element.textContent = text;\n",
              "  for (const key of Object.keys(styleAttributes)) {\n",
              "    element.style[key] = styleAttributes[key];\n",
              "  }\n",
              "  return element;\n",
              "}\n",
              "\n",
              "// Max number of bytes which will be uploaded at a time.\n",
              "const MAX_PAYLOAD_SIZE = 100 * 1024;\n",
              "\n",
              "function _uploadFiles(inputId, outputId) {\n",
              "  const steps = uploadFilesStep(inputId, outputId);\n",
              "  const outputElement = document.getElementById(outputId);\n",
              "  // Cache steps on the outputElement to make it available for the next call\n",
              "  // to uploadFilesContinue from Python.\n",
              "  outputElement.steps = steps;\n",
              "\n",
              "  return _uploadFilesContinue(outputId);\n",
              "}\n",
              "\n",
              "// This is roughly an async generator (not supported in the browser yet),\n",
              "// where there are multiple asynchronous steps and the Python side is going\n",
              "// to poll for completion of each step.\n",
              "// This uses a Promise to block the python side on completion of each step,\n",
              "// then passes the result of the previous step as the input to the next step.\n",
              "function _uploadFilesContinue(outputId) {\n",
              "  const outputElement = document.getElementById(outputId);\n",
              "  const steps = outputElement.steps;\n",
              "\n",
              "  const next = steps.next(outputElement.lastPromiseValue);\n",
              "  return Promise.resolve(next.value.promise).then((value) => {\n",
              "    // Cache the last promise value to make it available to the next\n",
              "    // step of the generator.\n",
              "    outputElement.lastPromiseValue = value;\n",
              "    return next.value.response;\n",
              "  });\n",
              "}\n",
              "\n",
              "/**\n",
              " * Generator function which is called between each async step of the upload\n",
              " * process.\n",
              " * @param {string} inputId Element ID of the input file picker element.\n",
              " * @param {string} outputId Element ID of the output display.\n",
              " * @return {!Iterable<!Object>} Iterable of next steps.\n",
              " */\n",
              "function* uploadFilesStep(inputId, outputId) {\n",
              "  const inputElement = document.getElementById(inputId);\n",
              "  inputElement.disabled = false;\n",
              "\n",
              "  const outputElement = document.getElementById(outputId);\n",
              "  outputElement.innerHTML = '';\n",
              "\n",
              "  const pickedPromise = new Promise((resolve) => {\n",
              "    inputElement.addEventListener('change', (e) => {\n",
              "      resolve(e.target.files);\n",
              "    });\n",
              "  });\n",
              "\n",
              "  const cancel = document.createElement('button');\n",
              "  inputElement.parentElement.appendChild(cancel);\n",
              "  cancel.textContent = 'Cancel upload';\n",
              "  const cancelPromise = new Promise((resolve) => {\n",
              "    cancel.onclick = () => {\n",
              "      resolve(null);\n",
              "    };\n",
              "  });\n",
              "\n",
              "  // Wait for the user to pick the files.\n",
              "  const files = yield {\n",
              "    promise: Promise.race([pickedPromise, cancelPromise]),\n",
              "    response: {\n",
              "      action: 'starting',\n",
              "    }\n",
              "  };\n",
              "\n",
              "  cancel.remove();\n",
              "\n",
              "  // Disable the input element since further picks are not allowed.\n",
              "  inputElement.disabled = true;\n",
              "\n",
              "  if (!files) {\n",
              "    return {\n",
              "      response: {\n",
              "        action: 'complete',\n",
              "      }\n",
              "    };\n",
              "  }\n",
              "\n",
              "  for (const file of files) {\n",
              "    const li = document.createElement('li');\n",
              "    li.append(span(file.name, {fontWeight: 'bold'}));\n",
              "    li.append(span(\n",
              "        `(${file.type || 'n/a'}) - ${file.size} bytes, ` +\n",
              "        `last modified: ${\n",
              "            file.lastModifiedDate ? file.lastModifiedDate.toLocaleDateString() :\n",
              "                                    'n/a'} - `));\n",
              "    const percent = span('0% done');\n",
              "    li.appendChild(percent);\n",
              "\n",
              "    outputElement.appendChild(li);\n",
              "\n",
              "    const fileDataPromise = new Promise((resolve) => {\n",
              "      const reader = new FileReader();\n",
              "      reader.onload = (e) => {\n",
              "        resolve(e.target.result);\n",
              "      };\n",
              "      reader.readAsArrayBuffer(file);\n",
              "    });\n",
              "    // Wait for the data to be ready.\n",
              "    let fileData = yield {\n",
              "      promise: fileDataPromise,\n",
              "      response: {\n",
              "        action: 'continue',\n",
              "      }\n",
              "    };\n",
              "\n",
              "    // Use a chunked sending to avoid message size limits. See b/62115660.\n",
              "    let position = 0;\n",
              "    do {\n",
              "      const length = Math.min(fileData.byteLength - position, MAX_PAYLOAD_SIZE);\n",
              "      const chunk = new Uint8Array(fileData, position, length);\n",
              "      position += length;\n",
              "\n",
              "      const base64 = btoa(String.fromCharCode.apply(null, chunk));\n",
              "      yield {\n",
              "        response: {\n",
              "          action: 'append',\n",
              "          file: file.name,\n",
              "          data: base64,\n",
              "        },\n",
              "      };\n",
              "\n",
              "      let percentDone = fileData.byteLength === 0 ?\n",
              "          100 :\n",
              "          Math.round((position / fileData.byteLength) * 100);\n",
              "      percent.textContent = `${percentDone}% done`;\n",
              "\n",
              "    } while (position < fileData.byteLength);\n",
              "  }\n",
              "\n",
              "  // All done.\n",
              "  yield {\n",
              "    response: {\n",
              "      action: 'complete',\n",
              "    }\n",
              "  };\n",
              "}\n",
              "\n",
              "scope.google = scope.google || {};\n",
              "scope.google.colab = scope.google.colab || {};\n",
              "scope.google.colab._files = {\n",
              "  _uploadFiles,\n",
              "  _uploadFilesContinue,\n",
              "};\n",
              "})(self);\n",
              "</script> "
            ]
          },
          "metadata": {}
        },
        {
          "output_type": "stream",
          "name": "stdout",
          "text": [
            "Saving kaggle.json to kaggle.json\n",
            "Downloading open-problems-single-cell-perturbations.zip to /content\n",
            "100% 3.83G/3.83G [00:46<00:00, 108MB/s]\n",
            "100% 3.83G/3.83G [00:46<00:00, 89.1MB/s]\n"
          ]
        }
      ],
      "source": [
        "import os\n",
        "import zipfile\n",
        "from pathlib import Path\n",
        "from google.colab import files\n",
        "\n",
        "# upload the kaggle.json file\n",
        "files.upload()\n",
        "\n",
        "# create the kaggle.json file and download data\n",
        "!mkdir -p ~/.kaggle\n",
        "!cp kaggle.json ~/.kaggle/\n",
        "!chmod 600 ~/.kaggle/kaggle.json\n",
        "!kaggle competitions download -c open-problems-single-cell-perturbations\n",
        "\n",
        "# unzip data\n",
        "local_zip = '/content/open-problems-single-cell-perturbations.zip'\n",
        "zip_ref = zipfile.ZipFile(local_zip, 'r')\n",
        "zip_ref.extractall('./')\n",
        "zip_ref.close()\n"
      ]
    },
    {
      "cell_type": "code",
      "source": [
        "#Read the data into a pandas data frame\n",
        "df = pd.read_parquet(\"de_train.parquet\")"
      ],
      "metadata": {
        "id": "M4h79LPOm3CY"
      },
      "execution_count": 4,
      "outputs": []
    },
    {
      "cell_type": "code",
      "source": [
        "!pip install RDKit"
      ],
      "metadata": {
        "colab": {
          "base_uri": "https://localhost:8080/"
        },
        "id": "zE3T97R2iix1",
        "outputId": "9f365e5d-463f-4e73-da19-8463dff4da95"
      },
      "execution_count": 5,
      "outputs": [
        {
          "output_type": "stream",
          "name": "stdout",
          "text": [
            "Collecting RDKit\n",
            "  Downloading rdkit-2023.9.2-cp310-cp310-manylinux_2_17_x86_64.manylinux2014_x86_64.whl (30.5 MB)\n",
            "\u001b[2K     \u001b[90m━━━━━━━━━━━━━━━━━━━━━━━━━━━━━━━━━━━━━━━━\u001b[0m \u001b[32m30.5/30.5 MB\u001b[0m \u001b[31m51.7 MB/s\u001b[0m eta \u001b[36m0:00:00\u001b[0m\n",
            "\u001b[?25hRequirement already satisfied: numpy in /usr/local/lib/python3.10/dist-packages (from RDKit) (1.23.5)\n",
            "Requirement already satisfied: Pillow in /usr/local/lib/python3.10/dist-packages (from RDKit) (9.4.0)\n",
            "Installing collected packages: RDKit\n",
            "Successfully installed RDKit-2023.9.2\n"
          ]
        }
      ]
    },
    {
      "cell_type": "code",
      "execution_count": 6,
      "metadata": {
        "id": "rg0SyfR7h_nw"
      },
      "outputs": [],
      "source": [
        "from rdkit import Chem\n",
        "from rdkit.Chem import rdFMCS"
      ]
    },
    {
      "cell_type": "code",
      "execution_count": 7,
      "metadata": {
        "id": "YJDwGhmKh_nx"
      },
      "outputs": [],
      "source": [
        "def count_substructure_occurrences(target_smiles, query_smiles):\n",
        "    try:\n",
        "        # Convert SMILES to RDKit molecules\n",
        "        target_mol = Chem.MolFromSmiles(target_smiles)\n",
        "        query_mol = Chem.MolFromSmiles(query_smiles)\n",
        "\n",
        "        # Check if the molecules are valid\n",
        "        if target_mol is None or query_mol is None:\n",
        "            print(\"Error: Invalid SMILES.\")\n",
        "            return None\n",
        "\n",
        "        # Use SubstructMatch to find occurrences\n",
        "        occurrences = target_mol.GetSubstructMatches(query_mol)\n",
        "\n",
        "        return len(occurrences)\n",
        "    except Exception as e:\n",
        "        print(f\"Error: {e}\")\n",
        "        return None"
      ]
    },
    {
      "cell_type": "code",
      "execution_count": 8,
      "metadata": {
        "id": "K6N1jCESh_ny"
      },
      "outputs": [],
      "source": [
        "# Identifies functional groups in each compound\n",
        "functional_groups  = [\"O\", \"C=O\", \"N\", \"C(=O)N\", \"C(=O)O\", \"N=O\", \"S\", \"P([O])([O])\", \"S(=O)([O])([O])\", \"C=C\", \"C#C\", \"c1ccccc1\", \"F\", \"Cl\", \"Br\", \"I\", \"C\" ]\n",
        "functional_column_names = [(i, 'int') for i in functional_groups]\n",
        "SMILES = df[\"SMILES\"].tolist()\n",
        "\n",
        "functional_groups_block = [[count_substructure_occurrences(i,j) for j in functional_groups ] for i in SMILES]\n",
        "functional_group_df = pd.DataFrame(functional_groups_block, columns=[name for name, _ in functional_column_names])\n",
        "functional_group_df = functional_group_df.astype(\"float64\")\n"
      ]
    },
    {
      "cell_type": "code",
      "execution_count": 10,
      "metadata": {
        "id": "drbXq8veh_nz"
      },
      "outputs": [],
      "source": [
        "#normalizes data between 0 and 1\n",
        "#returns normalized data and the factors used to normalzie\n",
        "def normalize(df):\n",
        "    min = df.min()\n",
        "    max=df.max()\n",
        "    df_normalized = (df - min) / (max-min)\n",
        "    return df_normalized, min.reset_index(drop=True), max.reset_index(drop=True)\n",
        "\n",
        "\n",
        "#unnormalize\n",
        "def unnormalize(normalized_df, min, max):\n",
        "    return min + normalized_df*(max-min)"
      ]
    },
    {
      "cell_type": "code",
      "execution_count": 11,
      "metadata": {
        "id": "RhfdcAx6h_n0"
      },
      "outputs": [],
      "source": [
        "############################DATA PREP###############################\n",
        "\n",
        "\n",
        "\n",
        "####One hot incodes inputs####\n",
        "\n",
        "# Initialize the OneHotEncoder\n",
        "encoder = OneHotEncoder(sparse_output=False)\n",
        "\n",
        "# Fit and transform the data\n",
        "cells = df[\"cell_type\"].values.reshape(-1, 1)\n",
        "hot_cells = encoder.fit_transform(cells)\n",
        "cell_mapping = encoder.categories_[0]\n",
        "\n",
        "compounds = df['sm_name'].values.reshape(-1, 1)\n",
        "hot_compounds = encoder.fit_transform(compounds)\n",
        "compound_mapping = encoder.categories_[0]\n",
        "\n",
        "#Puts together inputs\n",
        "hot_encoded = np.hstack((hot_cells, hot_compounds))\n",
        "hot_encoded_df = pd.DataFrame(data = hot_encoded)\n",
        "inputs_df = pd.concat([hot_encoded_df, functional_group_df], axis=1)\n",
        "\n",
        "####Normalizes Outputs####\n",
        "\n",
        "outputs = df.loc[:, 'A1BG':'ZZEF1']\n",
        "outputs_norm_df, norm_min, norm_max = normalize(outputs)\n",
        "\n",
        "\n",
        "####Puts Inputs and Outputs Together####\n",
        "prepped_df = pd.concat([inputs_df, outputs_norm_df], axis=1)\n",
        "\n",
        "\n",
        "\n"
      ]
    },
    {
      "cell_type": "code",
      "execution_count": 12,
      "metadata": {
        "id": "4TBy4mk3h_n1"
      },
      "outputs": [],
      "source": [
        "#Break into training and validation and split inputs from outputs\n",
        "val, train = train_test_split(prepped_df, train_size=.2, random_state=3)\n",
        "trainIn_df = train.loc[:, 0:\"C\"]\n",
        "trainOut_df = train.loc[:, 'A1BG':'ZZEF1']\n",
        "valIn_df = val.loc[:,0:\"C\"]\n",
        "valOut_df = val.loc[:, 'A1BG':'ZZEF1']\n",
        "\n",
        "#Transforms data frames into tensors\n",
        "trainIn_t = torch.tensor(trainIn_df.values).cuda()\n",
        "trainOut_t = torch.tensor(trainOut_df.values).cuda()\n",
        "valIn_t = torch.tensor(valIn_df.values).cuda()\n",
        "valOut_t = torch.tensor(valOut_df.values).cuda()\n",
        "\n",
        "\n"
      ]
    },
    {
      "cell_type": "code",
      "execution_count": 13,
      "metadata": {
        "id": "o50glonnh_n2"
      },
      "outputs": [],
      "source": [
        "\n",
        "#layers is a list of any length (at least 3) of the form [input, hidden1, hidden 2,....., output]\n",
        "\n",
        "def build_model(layers, dropout_p=0.5):\n",
        "    class DynamicNet(nn.Module):\n",
        "        def __init__(self, layer_sizes, dropout_p):\n",
        "            super(DynamicNet, self).__init__()\n",
        "            self.layers = nn.ModuleList()\n",
        "            for i in range(len(layer_sizes) - 2):\n",
        "                self.layers.append(nn.Linear(layer_sizes[i], layer_sizes[i + 1]))\n",
        "                self.layers.append(nn.ReLU())\n",
        "                self.layers.append(nn.Dropout(dropout_p))\n",
        "            self.layers.append(nn.Linear(layer_sizes[-2], layer_sizes[-1]))\n",
        "            self.act_output = nn.Sigmoid()\n",
        "\n",
        "        def forward(self, x):\n",
        "            for layer in self.layers:\n",
        "                x = layer(x)\n",
        "            x = self.act_output(x)\n",
        "            return x\n",
        "\n",
        "    model = DynamicNet(layers, dropout_p)\n",
        "    model.double()\n",
        "    return model\n"
      ]
    },
    {
      "cell_type": "code",
      "execution_count": 14,
      "metadata": {
        "id": "aehutz0Nh_n2"
      },
      "outputs": [],
      "source": [
        "\n",
        "#training loop\n",
        "\n",
        "def train(epoch_number, batch_size, layers):\n",
        "    model = build_model(layers)\n",
        "\n",
        "    # Move model to GPU if available\n",
        "    device = torch.device('cuda' if torch.cuda.is_available() else 'cpu')\n",
        "    model.to(device)\n",
        "\n",
        "\n",
        "    loss_fn = nn.BCELoss()\n",
        "    optimizer = torch.optim.Adam(model.parameters(), lr = 0.001)\n",
        "    # Initialize the plateau scheduler\n",
        "    scheduler = ReduceLROnPlateau(optimizer, mode='min', factor=0.1, patience=10, verbose=True)\n",
        "\n",
        "    epoch_test_losses = []\n",
        "    epoch_val_losses = []\n",
        "\n",
        "\n",
        "\n",
        "    for epoch in range(epoch_number):\n",
        "        batch_losses = []\n",
        "        for i in range(0, len(trainIn_t), batch_size):\n",
        "            Xbatch = trainIn_t[i:i+batch_size]\n",
        "            ybatch = trainOut_t[i:i+batch_size]\n",
        "            y_pred = model(Xbatch)\n",
        "            loss = loss_fn(y_pred, ybatch)\n",
        "\n",
        "            optimizer.zero_grad()\n",
        "            loss.backward()\n",
        "            optimizer.step()\n",
        "\n",
        "            batch_losses.append(loss.item())\n",
        "\n",
        "        # After each epoch, get the mean loss for the train and validation data.\n",
        "        epoch_test_loss = np.mean(batch_losses)\n",
        "        epoch_test_losses.append(epoch_test_loss)\n",
        "\n",
        "        #model.eval()\n",
        "        with torch.no_grad():\n",
        "            y_pred = model(valIn_t)\n",
        "            epoch_val_loss = loss_fn(y_pred,valOut_t)\n",
        "        epoch_val_losses.append(epoch_val_loss)\n",
        "        scheduler.step(epoch_val_loss)\n",
        "\n",
        "\n",
        "        print(f\"Epoch {epoch}, Training Loss: {epoch_test_loss}, Validation Loss: {epoch_val_loss}\")\n",
        "\n",
        "    return epoch_test_losses, epoch_val_losses, model\n",
        "\n"
      ]
    },
    {
      "cell_type": "code",
      "source": [
        "\n",
        "# Call your train(epochs, batch size, layers) function\n",
        "train_losses, test_losses, model = train(40, 45, [169, 320, 624, 248, 824, 1056, 6000, 18211])\n",
        "\n",
        "# Now plot the loss over epochs\n",
        "plt.figure(figsize=(10, 5))\n",
        "\n",
        "# Plotting the training loss\n",
        "plt.subplot(1, 2, 1)\n",
        "plt.plot(train_losses, label='Training Loss')\n",
        "plt.xlabel('Epochs')\n",
        "plt.ylabel('Loss')\n",
        "plt.title('Training Loss Over Time')\n",
        "plt.legend()\n",
        "\n",
        "\n",
        "# Plotting the deviation over epochs\n",
        "plt.subplot(1, 2, 2)\n",
        "plt.plot([x.cpu() for x in test_losses], label='Validation Loss')\n",
        "plt.xlabel('Epochs')\n",
        "plt.ylabel('Loss')\n",
        "plt.title('Validation Los Over Time')\n",
        "plt.legend()\n",
        "\n",
        "plt.tight_layout()\n",
        "plt.show()\n",
        "\n"
      ],
      "metadata": {
        "colab": {
          "base_uri": "https://localhost:8080/",
          "height": 1000
        },
        "id": "TYRIjeoeo0gM",
        "outputId": "b9c5c022-b85d-4f3d-c317-467a3a36657c"
      },
      "execution_count": 15,
      "outputs": [
        {
          "output_type": "stream",
          "name": "stdout",
          "text": [
            "Epoch 0, Training Loss: 0.6303253600908397, Validation Loss: 0.5520840295974381\n",
            "Epoch 1, Training Loss: 0.5433313187552654, Validation Loss: 0.5399344228100257\n",
            "Epoch 2, Training Loss: 0.5305288551231531, Validation Loss: 0.5322470740221988\n",
            "Epoch 3, Training Loss: 0.5273431758557298, Validation Loss: 0.530986895217156\n",
            "Epoch 4, Training Loss: 0.5263189419521059, Validation Loss: 0.5296631039972259\n",
            "Epoch 5, Training Loss: 0.5261992632513203, Validation Loss: 0.5303960775973706\n",
            "Epoch 6, Training Loss: 0.5264635242938852, Validation Loss: 0.5295151233848406\n",
            "Epoch 7, Training Loss: 0.5257929005951548, Validation Loss: 0.5301460313948324\n",
            "Epoch 8, Training Loss: 0.5259301722691355, Validation Loss: 0.5291013897493249\n",
            "Epoch 9, Training Loss: 0.5256691721147219, Validation Loss: 0.5294562454907157\n",
            "Epoch 10, Training Loss: 0.5258001813479195, Validation Loss: 0.5294412918987612\n",
            "Epoch 11, Training Loss: 0.5254740749056398, Validation Loss: 0.5299429749999751\n",
            "Epoch 12, Training Loss: 0.5259380348760427, Validation Loss: 0.5297201268351241\n",
            "Epoch 13, Training Loss: 0.5258968046286472, Validation Loss: 0.5294861247740721\n",
            "Epoch 14, Training Loss: 0.5255907891132199, Validation Loss: 0.5291543792062506\n",
            "Epoch 15, Training Loss: 0.5256400722457866, Validation Loss: 0.5295058189879049\n",
            "Epoch 16, Training Loss: 0.5258319825216613, Validation Loss: 0.5297998312528798\n",
            "Epoch 17, Training Loss: 0.5256407760810874, Validation Loss: 0.5291357010004907\n",
            "Epoch 18, Training Loss: 0.5256467226882972, Validation Loss: 0.5289582134121398\n",
            "Epoch 19, Training Loss: 0.525800198753415, Validation Loss: 0.5292155672268917\n",
            "Epoch 20, Training Loss: 0.5257618681818875, Validation Loss: 0.5294133109051968\n",
            "Epoch 21, Training Loss: 0.5255282565354998, Validation Loss: 0.5292097659494438\n",
            "Epoch 22, Training Loss: 0.525037523556778, Validation Loss: 0.5295943760172154\n",
            "Epoch 23, Training Loss: 0.5253487789452168, Validation Loss: 0.5292359380815884\n",
            "Epoch 24, Training Loss: 0.5253602410339538, Validation Loss: 0.529156461238947\n",
            "Epoch 25, Training Loss: 0.5251057058004103, Validation Loss: 0.5296442979646243\n",
            "Epoch 26, Training Loss: 0.5252942076133524, Validation Loss: 0.5290582555721207\n",
            "Epoch 27, Training Loss: 0.5251745113255876, Validation Loss: 0.5290956226882038\n",
            "Epoch 28, Training Loss: 0.525375109776883, Validation Loss: 0.5288099378949014\n",
            "Epoch 29, Training Loss: 0.5250646932714622, Validation Loss: 0.5293601045270715\n",
            "Epoch 30, Training Loss: 0.5253150092984852, Validation Loss: 0.5292877767568173\n",
            "Epoch 31, Training Loss: 0.5248206397383246, Validation Loss: 0.5286757342858303\n",
            "Epoch 32, Training Loss: 0.5248851380452998, Validation Loss: 0.5291915589175566\n",
            "Epoch 33, Training Loss: 0.5245652287248187, Validation Loss: 0.5294358099451348\n",
            "Epoch 34, Training Loss: 0.5244219363394048, Validation Loss: 0.5297065126391991\n",
            "Epoch 35, Training Loss: 0.5246352853873003, Validation Loss: 0.5287621838513711\n",
            "Epoch 36, Training Loss: 0.5241978115585769, Validation Loss: 0.5274337072574211\n",
            "Epoch 37, Training Loss: 0.5247079559187049, Validation Loss: 0.5278724609556662\n",
            "Epoch 38, Training Loss: 0.524345646576768, Validation Loss: 0.5280169555587266\n",
            "Epoch 39, Training Loss: 0.5235011833908492, Validation Loss: 0.5274934703461424\n"
          ]
        },
        {
          "output_type": "display_data",
          "data": {
            "text/plain": [
              "<Figure size 1000x500 with 2 Axes>"
            ],
            "image/png": "[encoded data removed]"
          },
          "metadata": {}
        }
      ]
    },
    {
      "cell_type": "code",
      "execution_count": 20,
      "metadata": {
        "id": "huPZrtUGh_n3"
      },
      "outputs": [],
      "source": [
        "def hot_encode(cell,compound):\n",
        "    cell_vec = np.zeros(cell_mapping.size)\n",
        "    cell_dict = {value: index for index, value in enumerate(cell_mapping)}\n",
        "\n",
        "    compound_vec = np.zeros(compound_mapping.size)\n",
        "    compound_dict = {value: index for index, value in enumerate(compound_mapping)}\n",
        "\n",
        "    sm_names = df[\"sm_name\"].tolist()\n",
        "    functional_group_dict= dict(zip(sm_names, functional_groups_block))\n",
        "\n",
        "\n",
        "    cell_vec[cell_dict[cell]]=1\n",
        "    compound_vec[compound_dict[compound]]=1\n",
        "    functional_group_vec = np.array(functional_group_dict[compound])\n",
        "    vector = np.concatenate((cell_vec, compound_vec, functional_group_vec), axis = 0)\n",
        "    tensor = torch.from_numpy(vector)\n",
        "    return tensor\n"
      ]
    },
    {
      "cell_type": "code",
      "execution_count": 21,
      "metadata": {
        "id": "paxuT97-h_n4"
      },
      "outputs": [],
      "source": [
        "def get_expression(cell_type, compound_name):\n",
        "    model.eval()\n",
        "    tensor = model(hot_encode(cell_type,compound_name).cuda())\n",
        "    np_array = tensor.detach().cpu().numpy()\n",
        "    df = pd.DataFrame(np_array)\n",
        "    return unnormalize(df[0],norm_min,norm_max)\n",
        "\n",
        "\n",
        "\n",
        "\n",
        "\n"
      ]
    },
    {
      "cell_type": "code",
      "execution_count": 22,
      "metadata": {
        "id": "mUHtZWC8h_n4"
      },
      "outputs": [],
      "source": [
        "# Read the sample submission and test set ID map\n",
        "sample_submission = pd.read_csv(\"sample_submission.csv\")\n",
        "testDf = pd.read_csv(\"id_map.csv\")\n",
        "\n",
        "# Initialize an empty list to collect the predicted values\n",
        "predicted_values = []\n",
        "\n",
        "# Loop through the test set to get the predicted values\n",
        "for idx, row in testDf.iterrows():\n",
        "    cell_type = row['cell_type']\n",
        "    sm_name = row['sm_name']\n",
        "\n",
        "    # Call your get_expression method here\n",
        "    expression_values = get_expression(cell_type, sm_name)\n",
        "\n",
        "    # Append the values to the list\n",
        "    predicted_values.append(expression_values)\n",
        "\n",
        "# Convert the list of predicted values to a numpy array\n",
        "predicted_values_array = np.array(predicted_values)\n",
        "\n",
        "# Replace the values in the sample submission DataFrame\n",
        "sample_submission.iloc[:, 1:] = predicted_values_array\n",
        "\n",
        "# Save the DataFrame to a new CSV file\n",
        "sample_submission.to_csv(\"my_submission.csv\", index=False)\n",
        "\n"
      ]
    },
    {
      "cell_type": "code",
      "execution_count": 15,
      "metadata": {
        "id": "ovtsIyRKh_n5"
      },
      "outputs": [],
      "source": []
    }
  ],
  "metadata": {
    "kernelspec": {
      "display_name": "Python 3",
      "name": "python3"
    },
    "language_info": {
      "codemirror_mode": {
        "name": "ipython",
        "version": 3
      },
      "file_extension": ".py",
      "mimetype": "text/x-python",
      "name": "python",
      "nbconvert_exporter": "python",
      "pygments_lexer": "ipython3",
      "version": "3.10.11"
    },
    "vscode": {
      "interpreter": {
        "hash": "31f2aee4e71d21fbe5cf8b01ff0e069b9275f58929596ceb00d14d90e3e16cd6"
      }
    },
    "colab": {
      "provenance": [],
      "gpuType": "T4"
    },
    "accelerator": "GPU"
  },
  "nbformat": 4,
  "nbformat_minor": 0
}