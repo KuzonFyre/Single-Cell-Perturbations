{
 "cells": [
  {
   "cell_type": "code",
   "execution_count": 1,
   "metadata": {},
   "outputs": [],
   "source": [
    "\n",
    "import torch.nn as nn\n",
    "import torch\n",
    "import numpy as np\n",
    "from sklearn.model_selection import train_test_split \n",
    "from sklearn.preprocessing import OneHotEncoder\n",
    "import pandas as pd\n",
    "from sklearn.metrics import mean_squared_error, r2_score\n",
    "import matplotlib.pyplot as plt\n"
   ]
  },
  {
   "cell_type": "code",
   "execution_count": 26,
   "metadata": {
    "scrolled": false
   },
   "outputs": [],
   "source": [
    "#Read the data into a pandas data frame \n",
    "df = pd.read_parquet(\"de_train.parquet\")\n"
   ]
  },
  {
   "cell_type": "code",
   "execution_count": 3,
   "metadata": {},
   "outputs": [],
   "source": [
    "from rdkit import Chem\n",
    "from rdkit.Chem import rdFMCS"
   ]
  },
  {
   "cell_type": "code",
   "execution_count": 4,
   "metadata": {},
   "outputs": [
    {
     "name": "stdout",
     "output_type": "stream",
     "text": [
      "The substructure 'c1ccccc1' is found 0 times in the molecule 'CCOCC'.\n"
     ]
    }
   ],
   "source": [
    "def count_substructure_occurrences(target_smiles, query_smiles):\n",
    "    try:\n",
    "        # Convert SMILES to RDKit molecules\n",
    "        target_mol = Chem.MolFromSmiles(target_smiles)\n",
    "        query_mol = Chem.MolFromSmiles(query_smiles)\n",
    "\n",
    "        # Check if the molecules are valid\n",
    "        if target_mol is None or query_mol is None:\n",
    "            print(\"Error: Invalid SMILES.\")\n",
    "            return None\n",
    "\n",
    "        # Use SubstructMatch to find occurrences\n",
    "        occurrences = target_mol.GetSubstructMatches(query_mol)\n",
    "\n",
    "        return len(occurrences)\n",
    "    except Exception as e:\n",
    "        print(f\"Error: {e}\")\n",
    "        return None\n",
    "\n",
    "# Example usage\n",
    "target_smiles = \"CCOCC\"\n",
    "query_smiles = \"c1ccccc1\"\n",
    "occurrence_count = count_substructure_occurrences(target_smiles, query_smiles)\n",
    "\n",
    "if occurrence_count is not None:\n",
    "    print(f\"The substructure '{query_smiles}' is found {occurrence_count} times in the molecule '{target_smiles}'.\")"
   ]
  },
  {
   "cell_type": "code",
   "execution_count": 5,
   "metadata": {},
   "outputs": [],
   "source": [
    "functional_groups  = [\"O\", \"C=O\", \"N\", \"C(=O)N\", \"C(=O)O\", \"N=O\", \"S\", \"P([O])([O])\", \"S(=O)([O])([O])\", \"C=C\", \"C#C\", \"c1ccccc1\", \"F\", \"Cl\", \"Br\", \"I\", \"C\" ]\n",
    "functional_column_names = [(i, 'int') for i in functional_groups]\n",
    "SMILES = df[\"SMILES\"].tolist()\n",
    "\n",
    "functional_groups_block = [[count_substructure_occurrences(i,j) for j in functional_groups ] for i in SMILES]\n",
    "functional_group_df = pd.DataFrame(functional_groups_block, columns=[name for name, _ in functional_column_names])\n",
    "functional_group_df = functional_group_df.astype(\"float64\")\n"
   ]
  },
  {
   "cell_type": "code",
   "execution_count": 6,
   "metadata": {},
   "outputs": [],
   "source": [
    "#normalizes data between -1 and 1\n",
    "#returns normalized data and the factors used to normalzie \n",
    "def normalize(df):\n",
    "    min = df.min()\n",
    "    max=df.max()\n",
    "    df_normalized = (df - min) / (max-min)\n",
    "    return df_normalized, min.reset_index(drop=True), max.reset_index(drop=True)\n",
    "\n",
    "\n",
    "#unnormalize\n",
    "def unnormalize(normalized_df, min, max):\n",
    "    return min + normalized_df*(max-min)"
   ]
  },
  {
   "cell_type": "code",
   "execution_count": 7,
   "metadata": {},
   "outputs": [
    {
     "name": "stdout",
     "output_type": "stream",
     "text": [
      "float64\n",
      "float64\n"
     ]
    }
   ],
   "source": [
    "############################DATA PREP###############################\n",
    "\n",
    "\n",
    "\n",
    "####One hot incodes inputs####\n",
    "\n",
    "# Initialize the OneHotEncoder\n",
    "encoder = OneHotEncoder(sparse_output=False)\n",
    "\n",
    "# Fit and transform the data\n",
    "cells = df[\"cell_type\"].values.reshape(-1, 1)\n",
    "hot_cells = encoder.fit_transform(cells)\n",
    "cell_mapping = encoder.categories_[0]\n",
    "\n",
    "compounds = df['sm_name'].values.reshape(-1, 1)\n",
    "hot_compounds = encoder.fit_transform(compounds)\n",
    "compound_mapping = encoder.categories_[0]\n",
    "\n",
    "#Puts together inputs\n",
    "hot_encoded = np.hstack((hot_cells, hot_compounds))\n",
    "hot_encoded_df = pd.DataFrame(data = hot_encoded)\n",
    "inputs_df = pd.concat([hot_encoded_df, functional_group_df], axis=1)\n",
    "\n",
    "####Normalizes Outputs####\n",
    "\n",
    "outputs = df.loc[:, 'A1BG':'ZZEF1']\n",
    "outputs_norm_df, norm_min, norm_max = normalize(outputs)\n",
    "\n",
    "\n",
    "####Puts Inputs and Outputs Together####\n",
    "prepped_df = pd.concat([inputs_df, outputs_norm_df], axis=1)\n",
    "\n",
    "print(inputs_df.dtypes[0])\n",
    "print(inputs_df.dtypes[\"O\"])\n",
    "\n",
    "\n"
   ]
  },
  {
   "cell_type": "code",
   "execution_count": 16,
   "metadata": {},
   "outputs": [],
   "source": [
    "#Break into training and validation and split inputs from outputs\n",
    "val, train = train_test_split(prepped_df, train_size=.2, random_state=3)\n",
    "trainIn_df = train.loc[:, 0:\"C\"]\n",
    "trainOut_df = train.loc[:, 'A1BG':'ZZEF1']\n",
    "valIn_df = val.loc[:,0:\"C\"]\n",
    "valOut_df = val.loc[:, 'A1BG':'ZZEF1']\n",
    "\n",
    "#Transforms data frames into tensors\n",
    "trainIn_t = torch.tensor(trainIn_df.values)\n",
    "trainOut_t = torch.tensor(trainOut_df.values)\n",
    "valIn_t = torch.tensor(valIn_df.values)\n",
    "valOut_t = torch.tensor(valOut_df.values)\n",
    "\n",
    "\n"
   ]
  },
  {
   "cell_type": "code",
   "execution_count": 34,
   "metadata": {},
   "outputs": [],
   "source": [
    "#layers is the number of hidden layers (function only defined for one or two layers)\n",
    "#sizes is a list with the sizes of each layer [input, hidden1, optional hidden 2, output]\n",
    "def build_model(layers, dropout_p=0.5):\n",
    "    if len(layers) == 3:\n",
    "        class Layer1(nn.Module):\n",
    "            def __init__(self, input_size, hidden1_size, num_classes):\n",
    "                super(Layer1, self).__init__()\n",
    "                self.fc1 = nn.Linear(input_size, hidden1_size)\n",
    "                self.relu1 = nn.ReLU()\n",
    "                self.dropout1 = nn.Dropout(dropout_p)\n",
    "                self.fc2 = nn.Linear(hidden1_size, num_classes)\n",
    "                self.act_output = nn.Sigmoid()\n",
    "\n",
    "            def forward(self, x):\n",
    "                out = self.fc1(x)\n",
    "                out = self.relu1(out)\n",
    "                out = self.dropout1(out)\n",
    "                out = self.fc2(out)\n",
    "                out = self.act_output(out)\n",
    "                return out\n",
    "\n",
    "        model1 = Layer1(layers[0], layers[1], layers[2])\n",
    "        model1.double()\n",
    "        return model1\n",
    "\n",
    "    elif len(layers) == 4:\n",
    "        class Layer2(nn.Module):\n",
    "            def __init__(self, input_size, hidden1_size, hidden2_size, num_classes):\n",
    "                super(Layer2, self).__init__()\n",
    "                self.fc1 = nn.Linear(input_size, hidden1_size)\n",
    "                self.relu1 = nn.ReLU()\n",
    "                self.dropout1 = nn.Dropout(dropout_p)\n",
    "                self.fc2 = nn.Linear(hidden1_size, hidden2_size)\n",
    "                self.relu2 = nn.ReLU()\n",
    "                self.dropout2 = nn.Dropout(dropout_p)\n",
    "                self.fc3 = nn.Linear(hidden2_size, num_classes)\n",
    "                self.act_output = nn.Sigmoid()\n",
    "\n",
    "            def forward(self, x):\n",
    "                out = self.fc1(x)\n",
    "                out = self.relu1(out)\n",
    "                out = self.dropout1(out)\n",
    "                out = self.fc2(out)\n",
    "                out = self.relu2(out)\n",
    "                out = self.dropout2(out)\n",
    "                out = self.fc3(out)\n",
    "                out = self.act_output(out)\n",
    "                return out\n",
    "\n",
    "        model2 = Layer2(layers[0], layers[1], layers[2], layers[3])\n",
    "        model2.double()\n",
    "        return model2\n",
    "\n",
    "    else:\n",
    "        print(\"Invalid number of hidden layers\")"
   ]
  },
  {
   "cell_type": "code",
   "execution_count": 35,
   "metadata": {},
   "outputs": [],
   "source": [
    "\n",
    "#training loop \n",
    "\n",
    "def train(epoch_number, batch_size, layers):\n",
    "    model = build_model(layers)\n",
    "    loss_fn = nn.BCELoss()\n",
    "    optimizer = torch.optim.Adam(model.parameters(), lr = 0.001)\n",
    "    epoch_test_losses = []\n",
    "    epoch_val_losses = []\n",
    "    \n",
    "    for epoch in range(epoch_number):\n",
    "        batch_losses = []\n",
    "        for i in range(0, len(trainIn_t), batch_size):\n",
    "            Xbatch = trainIn_t[i:i+batch_size]\n",
    "            ybatch = trainOut_t[i:i+batch_size]\n",
    "            y_pred = model(Xbatch)\n",
    "            loss = loss_fn(y_pred, ybatch)\n",
    "            \n",
    "            optimizer.zero_grad()\n",
    "            loss.backward()\n",
    "            optimizer.step()\n",
    "            \n",
    "            batch_losses.append(loss.item())\n",
    "        \n",
    "        # After each epoch, get the mean loss for the train and validation data.\n",
    "        epoch_test_loss = np.mean(batch_losses)\n",
    "        epoch_test_losses.append(epoch_test_loss)\n",
    "\n",
    "        with torch.no_grad():\n",
    "            y_pred = model(valIn_t)\n",
    "            epoch_val_loss = loss_fn(y_pred,valOut_t)\n",
    "        epoch_val_losses.append(epoch_val_loss)\n",
    "        \n",
    "                \n",
    "        print(f\"Epoch {epoch}, Training Loss: {epoch_test_loss}, Validation Loss: {epoch_val_loss}\")\n",
    "    \n",
    "    return epoch_test_losses, epoch_val_losses, model\n",
    "\n"
   ]
  },
  {
   "cell_type": "code",
   "execution_count": 37,
   "metadata": {},
   "outputs": [
    {
     "name": "stdout",
     "output_type": "stream",
     "text": [
      "Epoch 0, Training Loss: 0.5681305950532818, Validation Loss: 0.5404434659950594\n",
      "Epoch 1, Training Loss: 0.5328194903112415, Validation Loss: 0.5327901245336983\n",
      "Epoch 2, Training Loss: 0.5283685391947484, Validation Loss: 0.5309570590794201\n",
      "Epoch 3, Training Loss: 0.526330812801856, Validation Loss: 0.529509915391849\n",
      "Epoch 4, Training Loss: 0.524838175752397, Validation Loss: 0.5287938388379446\n",
      "Epoch 5, Training Loss: 0.5238842900955368, Validation Loss: 0.5281604207622155\n",
      "Epoch 6, Training Loss: 0.5230705871607889, Validation Loss: 0.5277138235430198\n",
      "Epoch 7, Training Loss: 0.5225925699380367, Validation Loss: 0.527418693226435\n",
      "Epoch 8, Training Loss: 0.5226557490453871, Validation Loss: 0.527141369282303\n",
      "Epoch 9, Training Loss: 0.5217873565658862, Validation Loss: 0.5270556447348426\n",
      "Epoch 10, Training Loss: 0.5219249614880084, Validation Loss: 0.5273950750012985\n",
      "Epoch 11, Training Loss: 0.5216294056948122, Validation Loss: 0.5272522110128474\n",
      "Epoch 12, Training Loss: 0.5215889752608881, Validation Loss: 0.5270728539879271\n",
      "Epoch 13, Training Loss: 0.5213347826541413, Validation Loss: 0.5272785484996415\n",
      "Epoch 14, Training Loss: 0.5211504765509803, Validation Loss: 0.5271167569579959\n",
      "Epoch 15, Training Loss: 0.5210610707200182, Validation Loss: 0.5277044136349904\n",
      "Epoch 16, Training Loss: 0.5207747576932645, Validation Loss: 0.5271608711782002\n",
      "Epoch 17, Training Loss: 0.520642597019949, Validation Loss: 0.5272812490910452\n",
      "Epoch 18, Training Loss: 0.5203834105222647, Validation Loss: 0.5279881424890276\n",
      "Epoch 19, Training Loss: 0.5204279307451652, Validation Loss: 0.5275360256054744\n"
     ]
    },
    {
     "data": {
      "image/png": "[encoded data removed]",
      "text/plain": [
       "<Figure size 1000x500 with 2 Axes>"
      ]
     },
     "metadata": {},
     "output_type": "display_data"
    }
   ],
   "source": [
    "\n",
    "# Call your train(epochs, batch size, layers) function\n",
    "train_losses, test_losses, model = train(20, 20, [169,4000,18211])\n",
    "\n",
    "# Now plot the loss over epochs\n",
    "plt.figure(figsize=(10, 5))\n",
    "\n",
    "# Plotting the training loss\n",
    "plt.subplot(1, 2, 1)\n",
    "plt.plot(train_losses, label='Training Loss')\n",
    "plt.xlabel('Epochs')\n",
    "plt.ylabel('Loss')\n",
    "plt.title('Training Loss Over Time')\n",
    "plt.legend()\n",
    "\n",
    "\n",
    "# Plotting the deviation over epochs\n",
    "plt.subplot(1, 2, 2)\n",
    "plt.plot(test_losses, label='Validation Deviation')\n",
    "plt.xlabel('Epochs')\n",
    "plt.ylabel('Deviation (%)')\n",
    "plt.title('Validation Deviation Over Time')\n",
    "plt.legend()\n",
    "\n",
    "plt.tight_layout()\n",
    "plt.show()\n",
    "\n"
   ]
  },
  {
   "cell_type": "code",
   "execution_count": 38,
   "metadata": {},
   "outputs": [],
   "source": [
    "def hot_encode(cell,compound):\n",
    "    cell_vec = np.zeros(cell_mapping.size)\n",
    "    cell_dict = {value: index for index, value in enumerate(cell_mapping)}\n",
    "\n",
    "    compound_vec = np.zeros(compound_mapping.size)\n",
    "    compound_dict = {value: index for index, value in enumerate(compound_mapping)}\n",
    "\n",
    "    sm_names = df[\"sm_name\"].tolist()\n",
    "    functional_group_dict= dict(zip(sm_names, functional_groups_block))\n",
    "\n",
    "\n",
    "    cell_vec[cell_dict[cell]]=1\n",
    "    compound_vec[compound_dict[compound]]=1\n",
    "    functional_group_vec = np.array(functional_group_dict[compound])\n",
    "    vector = np.concatenate((cell_vec, compound_vec, functional_group_vec), axis = 0)\n",
    "    tensor = torch.from_numpy(vector)\n",
    "    return tensor\n"
   ]
  },
  {
   "cell_type": "code",
   "execution_count": 39,
   "metadata": {},
   "outputs": [
    {
     "data": {
      "text/plain": [
       "tensor([0.1363, 0.2250, 0.5096,  ..., 0.3857, 0.4271, 0.5658],\n",
       "       dtype=torch.float64, grad_fn=<SigmoidBackward0>)"
      ]
     },
     "execution_count": 39,
     "metadata": {},
     "output_type": "execute_result"
    }
   ],
   "source": [
    "model(hot_encode(\"NK cells\", \"Clotrimazole\"))"
   ]
  },
  {
   "cell_type": "code",
   "execution_count": 40,
   "metadata": {},
   "outputs": [],
   "source": [
    "def get_expression(cell_type, compound_name):\n",
    "    model.eval()\n",
    "    tensor = model(hot_encode(cell_type,compound_name))\n",
    "    np_array = tensor.detach().numpy()\n",
    "    df = pd.DataFrame(np_array)\n",
    "    return unnormalize(df[0],norm_min,norm_max)\n",
    "\n",
    "\n",
    "\n",
    "\n",
    "\n"
   ]
  },
  {
   "cell_type": "code",
   "execution_count": 27,
   "metadata": {},
   "outputs": [],
   "source": [
    "# Read the sample submission and test set ID map\n",
    "sample_submission = pd.read_csv(\"sample_submission.csv\")\n",
    "testDf = pd.read_csv(\"id_map.csv\")\n",
    "\n",
    "# Initialize an empty list to collect the predicted values\n",
    "predicted_values = []\n",
    "\n",
    "# Loop through the test set to get the predicted values\n",
    "for idx, row in testDf.iterrows():\n",
    "    cell_type = row['cell_type']\n",
    "    sm_name = row['sm_name']\n",
    "    \n",
    "    # Call your get_expression method here\n",
    "    expression_values = get_expression(cell_type, sm_name)\n",
    "    \n",
    "    # Append the values to the list\n",
    "    predicted_values.append(expression_values)\n",
    "\n",
    "# Convert the list of predicted values to a numpy array\n",
    "predicted_values_array = np.array(predicted_values)\n",
    "\n",
    "# Replace the values in the sample submission DataFrame\n",
    "sample_submission.iloc[:, 1:] = predicted_values_array\n",
    "\n",
    "# Save the DataFrame to a new CSV file\n",
    "sample_submission.to_csv(\"my_submission.csv\", index=False)\n",
    "\n"
   ]
  },
  {
   "cell_type": "code",
   "execution_count": null,
   "metadata": {},
   "outputs": [],
   "source": []
  }
 ],
 "metadata": {
  "kernelspec": {
   "display_name": "Python 3 (ipykernel)",
   "language": "python",
   "name": "python3"
  },
  "language_info": {
   "codemirror_mode": {
    "name": "ipython",
    "version": 3
   },
   "file_extension": ".py",
   "mimetype": "text/x-python",
   "name": "python",
   "nbconvert_exporter": "python",
   "pygments_lexer": "ipython3",
   "version": "3.10.11"
  },
  "vscode": {
   "interpreter": {
    "hash": "31f2aee4e71d21fbe5cf8b01ff0e069b9275f58929596ceb00d14d90e3e16cd6"
   }
  }
 },
 "nbformat": 4,
 "nbformat_minor": 2
}
