{
  "cells": [
    {
      "cell_type": "code",
      "execution_count": 1,
      "metadata": {
        "id": "hzsdsOdsh_np"
      },
      "outputs": [],
      "source": [
        "\n",
        "import torch.nn as nn\n",
        "import torch\n",
        "import numpy as np\n",
        "from sklearn.model_selection import train_test_split\n",
        "from sklearn.preprocessing import OneHotEncoder\n",
        "import pandas as pd\n",
        "from sklearn.metrics import mean_squared_error, r2_score\n",
        "import matplotlib.pyplot as plt\n",
        "from torch.optim.lr_scheduler import ReduceLROnPlateau\n",
        "\n"
      ]
    },
    {
      "cell_type": "code",
      "execution_count": 2,
      "metadata": {
        "colab": {
          "base_uri": "https://localhost:8080/"
        },
        "id": "DtscQrqph_nv",
        "outputId": "b8464644-945a-4d70-c5bd-e7f14de27727"
      },
      "outputs": [
        {
          "output_type": "stream",
          "name": "stdout",
          "text": [
            "Drive already mounted at /content/drive; to attempt to forcibly remount, call drive.mount(\"/content/drive\", force_remount=True).\n"
          ]
        }
      ],
      "source": [
        "#Code to Run on Collab\n",
        "\n",
        "from google.colab import drive\n",
        "drive.mount('/content/drive')\n",
        "\n",
        "#Read the data into a pandas data frame\n",
        "df = pd.read_parquet(\"/content/drive/MyDrive/de_train.parquet\")\n",
        "\n"
      ]
    },
    {
      "cell_type": "code",
      "execution_count": null,
      "metadata": {
        "scrolled": false,
        "id": "VjvgoYM_h_nw"
      },
      "outputs": [],
      "source": [
        "#Code to run on local device\n",
        "\n",
        "#Read the data into a pandas data frame\n",
        "df = pd.read_parquet(\"de_train.parquet\")\n"
      ]
    },
    {
      "cell_type": "code",
      "source": [
        "!pip install RDKit"
      ],
      "metadata": {
        "colab": {
          "base_uri": "https://localhost:8080/"
        },
        "id": "zE3T97R2iix1",
        "outputId": "7bd6ed53-508a-46bb-8f2e-5d33935f9ede"
      },
      "execution_count": 3,
      "outputs": [
        {
          "output_type": "stream",
          "name": "stdout",
          "text": [
            "Requirement already satisfied: RDKit in /usr/local/lib/python3.10/dist-packages (2023.9.2)\n",
            "Requirement already satisfied: numpy in /usr/local/lib/python3.10/dist-packages (from RDKit) (1.23.5)\n",
            "Requirement already satisfied: Pillow in /usr/local/lib/python3.10/dist-packages (from RDKit) (9.4.0)\n"
          ]
        }
      ]
    },
    {
      "cell_type": "code",
      "execution_count": 3,
      "metadata": {
        "id": "rg0SyfR7h_nw"
      },
      "outputs": [],
      "source": [
        "from rdkit import Chem\n",
        "from rdkit.Chem import rdFMCS"
      ]
    },
    {
      "cell_type": "code",
      "execution_count": 4,
      "metadata": {
        "colab": {
          "base_uri": "https://localhost:8080/"
        },
        "id": "YJDwGhmKh_nx",
        "outputId": "a7271571-e007-4bdc-c601-99ff8f5ff20b"
      },
      "outputs": [
        {
          "output_type": "stream",
          "name": "stdout",
          "text": [
            "The substructure 'c1ccccc1' is found 0 times in the molecule 'CCOCC'.\n"
          ]
        }
      ],
      "source": [
        "def count_substructure_occurrences(target_smiles, query_smiles):\n",
        "    try:\n",
        "        # Convert SMILES to RDKit molecules\n",
        "        target_mol = Chem.MolFromSmiles(target_smiles)\n",
        "        query_mol = Chem.MolFromSmiles(query_smiles)\n",
        "\n",
        "        # Check if the molecules are valid\n",
        "        if target_mol is None or query_mol is None:\n",
        "            print(\"Error: Invalid SMILES.\")\n",
        "            return None\n",
        "\n",
        "        # Use SubstructMatch to find occurrences\n",
        "        occurrences = target_mol.GetSubstructMatches(query_mol)\n",
        "\n",
        "        return len(occurrences)\n",
        "    except Exception as e:\n",
        "        print(f\"Error: {e}\")\n",
        "        return None\n",
        "\n",
        "# Example usage\n",
        "target_smiles = \"CCOCC\"\n",
        "query_smiles = \"c1ccccc1\"\n",
        "occurrence_count = count_substructure_occurrences(target_smiles, query_smiles)\n",
        "\n",
        "if occurrence_count is not None:\n",
        "    print(f\"The substructure '{query_smiles}' is found {occurrence_count} times in the molecule '{target_smiles}'.\")"
      ]
    },
    {
      "cell_type": "code",
      "execution_count": 5,
      "metadata": {
        "id": "K6N1jCESh_ny"
      },
      "outputs": [],
      "source": [
        "functional_groups  = [\"O\", \"C=O\", \"N\", \"C(=O)N\", \"C(=O)O\", \"N=O\", \"S\", \"P([O])([O])\", \"S(=O)([O])([O])\", \"C=C\", \"C#C\", \"c1ccccc1\", \"F\", \"Cl\", \"Br\", \"I\", \"C\" ]\n",
        "functional_column_names = [(i, 'int') for i in functional_groups]\n",
        "SMILES = df[\"SMILES\"].tolist()\n",
        "\n",
        "functional_groups_block = [[count_substructure_occurrences(i,j) for j in functional_groups ] for i in SMILES]\n",
        "functional_group_df = pd.DataFrame(functional_groups_block, columns=[name for name, _ in functional_column_names])\n",
        "functional_group_df = functional_group_df.astype(\"float64\")\n"
      ]
    },
    {
      "cell_type": "code",
      "execution_count": 6,
      "metadata": {
        "id": "drbXq8veh_nz"
      },
      "outputs": [],
      "source": [
        "#normalizes data between -1 and 1\n",
        "#returns normalized data and the factors used to normalzie\n",
        "def normalize(df):\n",
        "    min = df.min()\n",
        "    max=df.max()\n",
        "    df_normalized = (df - min) / (max-min)\n",
        "    return df_normalized, min.reset_index(drop=True), max.reset_index(drop=True)\n",
        "\n",
        "\n",
        "#unnormalize\n",
        "def unnormalize(normalized_df, min, max):\n",
        "    return min + normalized_df*(max-min)"
      ]
    },
    {
      "cell_type": "code",
      "execution_count": 7,
      "metadata": {
        "colab": {
          "base_uri": "https://localhost:8080/"
        },
        "id": "RhfdcAx6h_n0",
        "outputId": "f3810f5c-f7b4-40e9-af45-3df3506d482f"
      },
      "outputs": [
        {
          "output_type": "stream",
          "name": "stdout",
          "text": [
            "float64\n",
            "float64\n"
          ]
        }
      ],
      "source": [
        "############################DATA PREP###############################\n",
        "\n",
        "\n",
        "\n",
        "####One hot incodes inputs####\n",
        "\n",
        "# Initialize the OneHotEncoder\n",
        "encoder = OneHotEncoder(sparse_output=False)\n",
        "\n",
        "# Fit and transform the data\n",
        "cells = df[\"cell_type\"].values.reshape(-1, 1)\n",
        "hot_cells = encoder.fit_transform(cells)\n",
        "cell_mapping = encoder.categories_[0]\n",
        "\n",
        "compounds = df['sm_name'].values.reshape(-1, 1)\n",
        "hot_compounds = encoder.fit_transform(compounds)\n",
        "compound_mapping = encoder.categories_[0]\n",
        "\n",
        "#Puts together inputs\n",
        "hot_encoded = np.hstack((hot_cells, hot_compounds))\n",
        "hot_encoded_df = pd.DataFrame(data = hot_encoded)\n",
        "inputs_df = pd.concat([hot_encoded_df, functional_group_df], axis=1)\n",
        "\n",
        "####Normalizes Outputs####\n",
        "\n",
        "outputs = df.loc[:, 'A1BG':'ZZEF1']\n",
        "outputs_norm_df, norm_min, norm_max = normalize(outputs)\n",
        "\n",
        "\n",
        "####Puts Inputs and Outputs Together####\n",
        "prepped_df = pd.concat([inputs_df, outputs_norm_df], axis=1)\n",
        "\n",
        "\n",
        "\n"
      ]
    },
    {
      "cell_type": "code",
      "execution_count": 8,
      "metadata": {
        "id": "4TBy4mk3h_n1"
      },
      "outputs": [],
      "source": [
        "#Break into training and validation and split inputs from outputs\n",
        "val, train = train_test_split(prepped_df, train_size=.2, random_state=3)\n",
        "trainIn_df = train.loc[:, 0:\"C\"]\n",
        "trainOut_df = train.loc[:, 'A1BG':'ZZEF1']\n",
        "valIn_df = val.loc[:,0:\"C\"]\n",
        "valOut_df = val.loc[:, 'A1BG':'ZZEF1']\n",
        "\n",
        "#Transforms data frames into tensors\n",
        "trainIn_t = torch.tensor(trainIn_df.values).cuda()\n",
        "trainOut_t = torch.tensor(trainOut_df.values).cuda()\n",
        "valIn_t = torch.tensor(valIn_df.values).cuda()\n",
        "valOut_t = torch.tensor(valOut_df.values).cuda()\n",
        "\n",
        "\n"
      ]
    },
    {
      "cell_type": "code",
      "execution_count": 9,
      "metadata": {
        "id": "o50glonnh_n2"
      },
      "outputs": [],
      "source": [
        "#layers is the number of hidden layers (function only defined for one or two layers)\n",
        "#sizes is a list with the sizes of each layer [input, hidden1, optional hidden 2, output]\n",
        "\n",
        "def build_model(layers, dropout_p=0.5):\n",
        "    class DynamicNet(nn.Module):\n",
        "        def __init__(self, layer_sizes, dropout_p):\n",
        "            super(DynamicNet, self).__init__()\n",
        "            self.layers = nn.ModuleList()\n",
        "            for i in range(len(layer_sizes) - 2):\n",
        "                self.layers.append(nn.Linear(layer_sizes[i], layer_sizes[i + 1]))\n",
        "                self.layers.append(nn.ReLU())\n",
        "                self.layers.append(nn.Dropout(dropout_p))\n",
        "            self.layers.append(nn.Linear(layer_sizes[-2], layer_sizes[-1]))\n",
        "            self.act_output = nn.Sigmoid()\n",
        "\n",
        "        def forward(self, x):\n",
        "            for layer in self.layers:\n",
        "                x = layer(x)\n",
        "            x = self.act_output(x)\n",
        "            return x\n",
        "\n",
        "    model = DynamicNet(layers, dropout_p)\n",
        "    model.double()\n",
        "    return model\n"
      ]
    },
    {
      "cell_type": "code",
      "execution_count": 10,
      "metadata": {
        "id": "aehutz0Nh_n2"
      },
      "outputs": [],
      "source": [
        "\n",
        "#training loop\n",
        "\n",
        "def train(epoch_number, batch_size, layers):\n",
        "    model = build_model(layers)\n",
        "\n",
        "    # Move model to GPU if available\n",
        "    device = torch.device('cuda' if torch.cuda.is_available() else 'cpu')\n",
        "    model.to(device)\n",
        "\n",
        "\n",
        "    loss_fn = nn.BCELoss()\n",
        "    optimizer = torch.optim.Adam(model.parameters(), lr = 0.001)\n",
        "    # Initialize the plateau scheduler\n",
        "    scheduler = ReduceLROnPlateau(optimizer, mode='min', factor=0.1, patience=10, verbose=True)\n",
        "\n",
        "    epoch_test_losses = []\n",
        "    epoch_val_losses = []\n",
        "\n",
        "\n",
        "\n",
        "    for epoch in range(epoch_number):\n",
        "        batch_losses = []\n",
        "        for i in range(0, len(trainIn_t), batch_size):\n",
        "            Xbatch = trainIn_t[i:i+batch_size]\n",
        "            ybatch = trainOut_t[i:i+batch_size]\n",
        "            y_pred = model(Xbatch)\n",
        "            loss = loss_fn(y_pred, ybatch)\n",
        "\n",
        "            optimizer.zero_grad()\n",
        "            loss.backward()\n",
        "            optimizer.step()\n",
        "\n",
        "            batch_losses.append(loss.item())\n",
        "\n",
        "        # After each epoch, get the mean loss for the train and validation data.\n",
        "        epoch_test_loss = np.mean(batch_losses)\n",
        "        epoch_test_losses.append(epoch_test_loss)\n",
        "\n",
        "        model.eval()\n",
        "        with torch.no_grad():\n",
        "            y_pred = model(valIn_t)\n",
        "            epoch_val_loss = loss_fn(y_pred,valOut_t)\n",
        "        epoch_val_losses.append(epoch_val_loss)\n",
        "        scheduler.step(epoch_val_loss)\n",
        "\n",
        "\n",
        "        print(f\"Epoch {epoch}, Training Loss: {epoch_test_loss}, Validation Loss: {epoch_val_loss}\")\n",
        "\n",
        "    return epoch_test_losses, epoch_val_losses, model\n",
        "\n"
      ]
    },
    {
      "cell_type": "code",
      "source": [
        "\n",
        "# Call your train(epochs, batch size, layers) function\n",
        "train_losses, test_losses, model = train(40, 64, [169,512, 1024, 2048, 18211])\n",
        "\n",
        "# Now plot the loss over epochs\n",
        "plt.figure(figsize=(10, 5))\n",
        "\n",
        "# Plotting the training loss\n",
        "plt.subplot(1, 2, 1)\n",
        "plt.plot(train_losses, label='Training Loss')\n",
        "plt.xlabel('Epochs')\n",
        "plt.ylabel('Loss')\n",
        "plt.title('Training Loss Over Time')\n",
        "plt.legend()\n",
        "\n",
        "\n",
        "# Plotting the deviation over epochs\n",
        "plt.subplot(1, 2, 2)\n",
        "plt.plot([x.cpu() for x in test_losses], label='Validation Deviation')\n",
        "plt.xlabel('Epochs')\n",
        "plt.ylabel('Deviation (%)')\n",
        "plt.title('Validation Deviation Over Time')\n",
        "plt.legend()\n",
        "\n",
        "plt.tight_layout()\n",
        "plt.show()\n",
        "\n"
      ],
      "metadata": {
        "colab": {
          "base_uri": "https://localhost:8080/",
          "height": 1000
        },
        "id": "TYRIjeoeo0gM",
        "outputId": "71cad947-2bd9-443d-e64a-1c0440b88906"
      },
      "execution_count": 15,
      "outputs": [
        {
          "output_type": "stream",
          "name": "stdout",
          "text": [
            "Epoch 0, Training Loss: 0.5903124283793608, Validation Loss: 0.5869459838797448\n",
            "Epoch 1, Training Loss: 0.5481145815231905, Validation Loss: 0.5415824538097317\n",
            "Epoch 2, Training Loss: 0.5338295363746797, Validation Loss: 0.532567267239195\n",
            "Epoch 3, Training Loss: 0.5287142868613299, Validation Loss: 0.531172931359182\n",
            "Epoch 4, Training Loss: 0.5267678850581032, Validation Loss: 0.5299858217685907\n",
            "Epoch 5, Training Loss: 0.5255450360798886, Validation Loss: 0.529005354132464\n",
            "Epoch 6, Training Loss: 0.5245677924170581, Validation Loss: 0.5284613601420882\n",
            "Epoch 7, Training Loss: 0.5235627748904611, Validation Loss: 0.5276569497197495\n",
            "Epoch 8, Training Loss: 0.5229090163407689, Validation Loss: 0.5273099428018495\n",
            "Epoch 9, Training Loss: 0.5224160155494915, Validation Loss: 0.5269479719657826\n",
            "Epoch 10, Training Loss: 0.5220190779323186, Validation Loss: 0.5267864918600352\n",
            "Epoch 11, Training Loss: 0.5217651341291522, Validation Loss: 0.5267230680624604\n",
            "Epoch 12, Training Loss: 0.5216204876012247, Validation Loss: 0.5267825458466516\n",
            "Epoch 13, Training Loss: 0.5215616712511262, Validation Loss: 0.5270881708014318\n",
            "Epoch 14, Training Loss: 0.5216275847226088, Validation Loss: 0.5274739853243204\n",
            "Epoch 15, Training Loss: 0.5218626875271495, Validation Loss: 0.5272224915439007\n",
            "Epoch 16, Training Loss: 0.5220430559931833, Validation Loss: 0.5274151787206055\n",
            "Epoch 17, Training Loss: 0.5217087583730626, Validation Loss: 0.5269913667417913\n",
            "Epoch 18, Training Loss: 0.5210767662705265, Validation Loss: 0.5273942259940352\n",
            "Epoch 19, Training Loss: 0.5210239574869755, Validation Loss: 0.5269851266686595\n",
            "Epoch 20, Training Loss: 0.5209249890389293, Validation Loss: 0.5271025580561399\n",
            "Epoch 21, Training Loss: 0.5208093093305523, Validation Loss: 0.5273355520277483\n",
            "Epoch 00023: reducing learning rate of group 0 to 1.0000e-04.\n",
            "Epoch 22, Training Loss: 0.5207308686075627, Validation Loss: 0.527577174378732\n",
            "Epoch 23, Training Loss: 0.520760871181775, Validation Loss: 0.527184591527061\n",
            "Epoch 24, Training Loss: 0.5206185096984703, Validation Loss: 0.5273031370381707\n",
            "Epoch 25, Training Loss: 0.5206105051276122, Validation Loss: 0.5271677598212542\n",
            "Epoch 26, Training Loss: 0.5205636678403945, Validation Loss: 0.527240959959957\n",
            "Epoch 27, Training Loss: 0.5205571244253621, Validation Loss: 0.527195487849504\n",
            "Epoch 28, Training Loss: 0.5205398346022352, Validation Loss: 0.5272323457121458\n",
            "Epoch 29, Training Loss: 0.5205288207343729, Validation Loss: 0.5272203898088328\n",
            "Epoch 30, Training Loss: 0.520519762614031, Validation Loss: 0.5272292764066715\n",
            "Epoch 31, Training Loss: 0.5205074846946123, Validation Loss: 0.5272411864390697\n",
            "Epoch 32, Training Loss: 0.520500801914421, Validation Loss: 0.5272383685652409\n",
            "Epoch 00034: reducing learning rate of group 0 to 1.0000e-05.\n",
            "Epoch 33, Training Loss: 0.5204888095335494, Validation Loss: 0.5272529916434571\n",
            "Epoch 34, Training Loss: 0.5204738792187205, Validation Loss: 0.5272571364603287\n",
            "Epoch 35, Training Loss: 0.5204727983302704, Validation Loss: 0.5272601397523625\n",
            "Epoch 36, Training Loss: 0.5204717518457038, Validation Loss: 0.5272600747468492\n",
            "Epoch 37, Training Loss: 0.5204705968887696, Validation Loss: 0.5272589180251558\n",
            "Epoch 38, Training Loss: 0.5204693922679444, Validation Loss: 0.5272589493190456\n",
            "Epoch 39, Training Loss: 0.5204682928887292, Validation Loss: 0.5272595502237221\n"
          ]
        },
        {
          "output_type": "display_data",
          "data": {
            "text/plain": [
              "<Figure size 1000x500 with 2 Axes>"
            ],
            "image/png": "[encoded data removed]"
          },
          "metadata": {}
        }
      ]
    },
    {
      "cell_type": "code",
      "execution_count": null,
      "metadata": {
        "id": "huPZrtUGh_n3"
      },
      "outputs": [],
      "source": [
        "def hot_encode(cell,compound):\n",
        "    cell_vec = np.zeros(cell_mapping.size)\n",
        "    cell_dict = {value: index for index, value in enumerate(cell_mapping)}\n",
        "\n",
        "    compound_vec = np.zeros(compound_mapping.size)\n",
        "    compound_dict = {value: index for index, value in enumerate(compound_mapping)}\n",
        "\n",
        "    sm_names = df[\"sm_name\"].tolist()\n",
        "    functional_group_dict= dict(zip(sm_names, functional_groups_block))\n",
        "\n",
        "\n",
        "    cell_vec[cell_dict[cell]]=1\n",
        "    compound_vec[compound_dict[compound]]=1\n",
        "    functional_group_vec = np.array(functional_group_dict[compound])\n",
        "    vector = np.concatenate((cell_vec, compound_vec, functional_group_vec), axis = 0)\n",
        "    tensor = torch.from_numpy(vector)\n",
        "    return tensor\n"
      ]
    },
    {
      "cell_type": "code",
      "execution_count": null,
      "metadata": {
        "id": "z3OD1E8lh_n4",
        "outputId": "c62ab551-8148-4101-8b04-7f874ab6566c"
      },
      "outputs": [
        {
          "data": {
            "text/plain": [
              "tensor([0.1363, 0.2250, 0.5096,  ..., 0.3857, 0.4271, 0.5658],\n",
              "       dtype=torch.float64, grad_fn=<SigmoidBackward0>)"
            ]
          },
          "execution_count": 39,
          "metadata": {},
          "output_type": "execute_result"
        }
      ],
      "source": [
        "model(hot_encode(\"NK cells\", \"Clotrimazole\"))"
      ]
    },
    {
      "cell_type": "code",
      "execution_count": null,
      "metadata": {
        "id": "paxuT97-h_n4"
      },
      "outputs": [],
      "source": [
        "def get_expression(cell_type, compound_name):\n",
        "    model.eval()\n",
        "    tensor = model(hot_encode(cell_type,compound_name))\n",
        "    np_array = tensor.detach().numpy()\n",
        "    df = pd.DataFrame(np_array)\n",
        "    return unnormalize(df[0],norm_min,norm_max)\n",
        "\n",
        "\n",
        "\n",
        "\n",
        "\n"
      ]
    },
    {
      "cell_type": "code",
      "execution_count": null,
      "metadata": {
        "id": "mUHtZWC8h_n4"
      },
      "outputs": [],
      "source": [
        "# Read the sample submission and test set ID map\n",
        "sample_submission = pd.read_csv(\"sample_submission.csv\")\n",
        "testDf = pd.read_csv(\"id_map.csv\")\n",
        "\n",
        "# Initialize an empty list to collect the predicted values\n",
        "predicted_values = []\n",
        "\n",
        "# Loop through the test set to get the predicted values\n",
        "for idx, row in testDf.iterrows():\n",
        "    cell_type = row['cell_type']\n",
        "    sm_name = row['sm_name']\n",
        "\n",
        "    # Call your get_expression method here\n",
        "    expression_values = get_expression(cell_type, sm_name)\n",
        "\n",
        "    # Append the values to the list\n",
        "    predicted_values.append(expression_values)\n",
        "\n",
        "# Convert the list of predicted values to a numpy array\n",
        "predicted_values_array = np.array(predicted_values)\n",
        "\n",
        "# Replace the values in the sample submission DataFrame\n",
        "sample_submission.iloc[:, 1:] = predicted_values_array\n",
        "\n",
        "# Save the DataFrame to a new CSV file\n",
        "sample_submission.to_csv(\"my_submission.csv\", index=False)\n",
        "\n"
      ]
    },
    {
      "cell_type": "code",
      "execution_count": null,
      "metadata": {
        "id": "ovtsIyRKh_n5"
      },
      "outputs": [],
      "source": []
    }
  ],
  "metadata": {
    "kernelspec": {
      "display_name": "Python 3",
      "name": "python3"
    },
    "language_info": {
      "codemirror_mode": {
        "name": "ipython",
        "version": 3
      },
      "file_extension": ".py",
      "mimetype": "text/x-python",
      "name": "python",
      "nbconvert_exporter": "python",
      "pygments_lexer": "ipython3",
      "version": "3.10.11"
    },
    "vscode": {
      "interpreter": {
        "hash": "31f2aee4e71d21fbe5cf8b01ff0e069b9275f58929596ceb00d14d90e3e16cd6"
      }
    },
    "colab": {
      "provenance": [],
      "gpuType": "T4"
    },
    "accelerator": "GPU"
  },
  "nbformat": 4,
  "nbformat_minor": 0
}